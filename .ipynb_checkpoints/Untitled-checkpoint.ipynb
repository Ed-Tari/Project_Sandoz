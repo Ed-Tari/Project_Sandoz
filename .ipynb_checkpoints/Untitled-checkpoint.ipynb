{
 "cells": [
  {
   "cell_type": "code",
   "execution_count": 794,
   "id": "fd08ab8c",
   "metadata": {},
   "outputs": [],
   "source": [
    "import numpy as np\n",
    "import pandas as pd\n",
    "import scipy.stats as st\n",
    "from scipy.stats import norm, mannwhitneyu\n",
    "import matplotlib.pyplot as plt\n",
    "from tqdm.auto import tqdm\n",
    "import seaborn as sns\n",
    "from statistics import mean\n",
    "plt.style.use('ggplot')"
   ]
  },
  {
   "cell_type": "code",
   "execution_count": 795,
   "id": "2419e1ad",
   "metadata": {},
   "outputs": [],
   "source": [
    "df = pd.read_excel('./!!!СПРАВОЧНИК_03.02.2023.xlsm', sheet_name=7)"
   ]
  },
  {
   "cell_type": "code",
   "execution_count": 796,
   "id": "497fc2d0",
   "metadata": {},
   "outputs": [],
   "source": [
    "df['new_name'] = df.NAME_TABLETKA.str.split(' ').str[-2]+' '+df.NAME_TABLETKA.str.split(' ').str[-1]\n",
    "df_AD = df[['NAME_TABLETKA','new_name']]"
   ]
  },
  {
   "cell_type": "code",
   "execution_count": 797,
   "id": "99c9c713",
   "metadata": {},
   "outputs": [
    {
     "data": {
      "text/html": [
       "<div>\n",
       "<style scoped>\n",
       "    .dataframe tbody tr th:only-of-type {\n",
       "        vertical-align: middle;\n",
       "    }\n",
       "\n",
       "    .dataframe tbody tr th {\n",
       "        vertical-align: top;\n",
       "    }\n",
       "\n",
       "    .dataframe thead th {\n",
       "        text-align: right;\n",
       "    }\n",
       "</style>\n",
       "<table border=\"1\" class=\"dataframe\">\n",
       "  <thead>\n",
       "    <tr style=\"text-align: right;\">\n",
       "      <th></th>\n",
       "      <th>NAME_TABLETKA</th>\n",
       "      <th>new_name</th>\n",
       "    </tr>\n",
       "  </thead>\n",
       "  <tbody>\n",
       "    <tr>\n",
       "      <th>0</th>\n",
       "      <td>Минская Фармация Аптека N137</td>\n",
       "      <td>Аптека N137</td>\n",
       "    </tr>\n",
       "    <tr>\n",
       "      <th>1</th>\n",
       "      <td>Минская Фармация Аптека N172</td>\n",
       "      <td>Аптека N172</td>\n",
       "    </tr>\n",
       "    <tr>\n",
       "      <th>2</th>\n",
       "      <td>Минская Фармация Аптека N215</td>\n",
       "      <td>Аптека N215</td>\n",
       "    </tr>\n",
       "    <tr>\n",
       "      <th>3</th>\n",
       "      <td>Минская Фармация Аптека N263</td>\n",
       "      <td>Аптека N263</td>\n",
       "    </tr>\n",
       "    <tr>\n",
       "      <th>4</th>\n",
       "      <td>Минская Фармация Аптека N266</td>\n",
       "      <td>Аптека N266</td>\n",
       "    </tr>\n",
       "  </tbody>\n",
       "</table>\n",
       "</div>"
      ],
      "text/plain": [
       "                  NAME_TABLETKA     new_name\n",
       "0  Минская Фармация Аптека N137  Аптека N137\n",
       "1  Минская Фармация Аптека N172  Аптека N172\n",
       "2  Минская Фармация Аптека N215  Аптека N215\n",
       "3  Минская Фармация Аптека N263  Аптека N263\n",
       "4  Минская Фармация Аптека N266  Аптека N266"
      ]
     },
     "execution_count": 797,
     "metadata": {},
     "output_type": "execute_result"
    }
   ],
   "source": [
    "df_AD.head()"
   ]
  },
  {
   "cell_type": "code",
   "execution_count": 798,
   "id": "9af18de4",
   "metadata": {},
   "outputs": [],
   "source": [
    "df_ = pd.read_excel('./!!!СПРАВОЧНИК_03.02.2023.xlsm', sheet_name=8)"
   ]
  },
  {
   "cell_type": "code",
   "execution_count": 799,
   "id": "101e4cfb",
   "metadata": {},
   "outputs": [],
   "source": [
    "df_['new_name'] = df_.NAME_TABLETKA.str.split(' ').str[-2]+' '+df_.NAME_TABLETKA.str.split(' ').str[-1]\n",
    "df_ = df_[['NAME_TABLETKA','new_name']]\n"
   ]
  },
  {
   "cell_type": "code",
   "execution_count": 800,
   "id": "807d6028",
   "metadata": {},
   "outputs": [
    {
     "data": {
      "text/html": [
       "<div>\n",
       "<style scoped>\n",
       "    .dataframe tbody tr th:only-of-type {\n",
       "        vertical-align: middle;\n",
       "    }\n",
       "\n",
       "    .dataframe tbody tr th {\n",
       "        vertical-align: top;\n",
       "    }\n",
       "\n",
       "    .dataframe thead th {\n",
       "        text-align: right;\n",
       "    }\n",
       "</style>\n",
       "<table border=\"1\" class=\"dataframe\">\n",
       "  <thead>\n",
       "    <tr style=\"text-align: right;\">\n",
       "      <th></th>\n",
       "      <th>NAME_TABLETKA</th>\n",
       "      <th>new_name</th>\n",
       "    </tr>\n",
       "  </thead>\n",
       "  <tbody>\n",
       "    <tr>\n",
       "      <th>0</th>\n",
       "      <td>Минская Фармация Аптека N220</td>\n",
       "      <td>Аптека N220</td>\n",
       "    </tr>\n",
       "    <tr>\n",
       "      <th>1</th>\n",
       "      <td>Минская Фармация ЦРА N19</td>\n",
       "      <td>ЦРА N19</td>\n",
       "    </tr>\n",
       "    <tr>\n",
       "      <th>2</th>\n",
       "      <td>Минская Фармация Аптека N257</td>\n",
       "      <td>Аптека N257</td>\n",
       "    </tr>\n",
       "    <tr>\n",
       "      <th>3</th>\n",
       "      <td>Минская Фармация Аптека N260</td>\n",
       "      <td>Аптека N260</td>\n",
       "    </tr>\n",
       "    <tr>\n",
       "      <th>4</th>\n",
       "      <td>Минская Фармация Аптека N264</td>\n",
       "      <td>Аптека N264</td>\n",
       "    </tr>\n",
       "  </tbody>\n",
       "</table>\n",
       "</div>"
      ],
      "text/plain": [
       "                  NAME_TABLETKA     new_name\n",
       "0  Минская Фармация Аптека N220  Аптека N220\n",
       "1      Минская Фармация ЦРА N19      ЦРА N19\n",
       "2  Минская Фармация Аптека N257  Аптека N257\n",
       "3  Минская Фармация Аптека N260  Аптека N260\n",
       "4  Минская Фармация Аптека N264  Аптека N264"
      ]
     },
     "execution_count": 800,
     "metadata": {},
     "output_type": "execute_result"
    }
   ],
   "source": [
    "df_.head()"
   ]
  },
  {
   "cell_type": "code",
   "execution_count": 831,
   "id": "48b6d04f",
   "metadata": {},
   "outputs": [
    {
     "data": {
      "text/plain": [
       "45"
      ]
     },
     "execution_count": 831,
     "metadata": {},
     "output_type": "execute_result"
    }
   ],
   "source": [
    "lst_of_AD_aptecs = df_AD.new_name.head(45).to_list()\n",
    "\n",
    "\n",
    "len(df_AD.new_name.sample(45).to_list())"
   ]
  },
  {
   "cell_type": "code",
   "execution_count": 832,
   "id": "7efba6a6",
   "metadata": {},
   "outputs": [
    {
     "data": {
      "text/plain": [
       "45"
      ]
     },
     "execution_count": 832,
     "metadata": {},
     "output_type": "execute_result"
    }
   ],
   "source": [
    "lst_of_aptecs = df_.new_name.to_list()\n",
    "\n",
    "len(df_.new_name.to_list())"
   ]
  },
  {
   "cell_type": "code",
   "execution_count": 833,
   "id": "9e19f67b",
   "metadata": {},
   "outputs": [],
   "source": [
    "# Подгружаем сеты данных по месяцам с  продажами. \n",
    "df_september = pd.read_csv('./RE/МИНСКАЯ Ф  Сентябрь.csv', sep = ';')\n",
    "df_january = pd.read_csv('./RE/МИНСКАЯ Ф Январь.csv', sep = ';')\n",
    "df_november = pd.read_csv('./RE/МИНСКАЯ Ф Ноябрь.csv', sep = ';')\n",
    "df_october = pd.read_csv('./RE/МИНСКАЯ Ф Октябрь.csv', sep = ';')\n",
    "df_december = pd.read_csv('./RE/МИНСКАЯ Ф Декабрь.csv', sep = ';')\n",
    "\n",
    "\n",
    "\n",
    "\n",
    "\n",
    "\n"
   ]
  },
  {
   "cell_type": "code",
   "execution_count": 834,
   "id": "7d88b3ac",
   "metadata": {},
   "outputs": [],
   "source": [
    "list_of_data = [df_september, df_january, df_november, df_october, df_december]\n",
    "list_of_data_d = ['2022-09-01', '2023-01-01','2022-11-01','2022-10-01','2022-12-01']"
   ]
  },
  {
   "cell_type": "code",
   "execution_count": 835,
   "id": "a9f3376b",
   "metadata": {
    "scrolled": false
   },
   "outputs": [],
   "source": [
    "s = ['АЦЦ','Бронхо-мунал','Экзодерил','Линекс']\n",
    "s_2 = ['Вольтарен','Катеджель', 'Одестон','Персен','Эксфорж','Юперио','Гальвус','Ксефокам','Финалгон']\n",
    "for i,j in zip(list_of_data,list_of_data_d):\n",
    "    i.dropna(inplace=True)\n",
    "    i.drop('expiration_date', axis=1, inplace=True)\n",
    "    i.realization = i.realization.str.replace(',', '.')\n",
    "    i.realization = i.realization.astype('float')\n",
    "    i['new_drug_name'] = i.drug_name.str.split(' ').str[0]\n",
    "    i['new_name'] = i.ap_name.str.strip().str.split(' ').str[0]+ ' ' +i.ap_name.str.strip().str.split(' ').str[1]\n",
    "    i.new_name = i.new_name.str.replace('№', 'N')\n",
    "#     Эта строчка формирует дсеты по содержанию рекламных препаратов. Исключая ее, получаем все препараты вместе.\n",
    "#     i.query('new_drug_name not in @s', inplace=True)\n",
    "#   Тут убираем строчки с препаратами не нужными  \n",
    "    i.query('new_drug_name not in @s_2 ', inplace=True)\n",
    "    i.reset_index(drop=True, inplace=True)\n",
    "    i['date'] = j\n",
    "    "
   ]
  },
  {
   "cell_type": "code",
   "execution_count": 836,
   "id": "78e585d8",
   "metadata": {},
   "outputs": [],
   "source": [
    "# Собираем датасеты по рекламным и не рекламнм аптекам, и группируем по нозванию препората\n",
    "# Выгружаем в CSV формате по каждому месяцу отделно\n",
    "# list_AD_data =[]\n",
    "# list_no_AD_data =[]\n",
    "# for i in list_of_data:\n",
    "#     list_AD_data.append(i.query('new_name in @lst_of_AD_aptecs')[['drug_name','ap_name','realization','new_name']].groupby(['drug_name','new_name']).agg({'realization':'sum'}))\n",
    "#     list_no_AD_data.append(i.query('new_name in @lst_of_aptecs')[['drug_name','ap_name','realization','new_name']].groupby(['drug_name','new_name']).agg({'realization':'sum'}))\n",
    "\n",
    "\n",
    "# list_name = ['september', 'january', 'november', 'october', 'december']\n",
    "# for i,j in zip(list_AD_data, list_name):\n",
    "#     i.to_excel(f'./Final/With_ad_{j}.xlsx')\n",
    "# for i,j in zip(list_no_AD_data, list_name):\n",
    "#     i.to_excel(f'./Final/No_ad_{j}.xlsx')\n"
   ]
  },
  {
   "cell_type": "code",
   "execution_count": 1156,
   "id": "179ea04b",
   "metadata": {},
   "outputs": [],
   "source": [
    "list_AD_data =[]\n",
    "list_no_AD_data =[]\n",
    "for i in list_of_data:\n",
    "    list_AD_data.append(i.query('new_name in @lst_of_AD_aptecs'))\n",
    "    list_no_AD_data.append(i.query('new_name in @lst_of_aptecs'))"
   ]
  },
  {
   "cell_type": "code",
   "execution_count": 1157,
   "id": "9239fbba",
   "metadata": {},
   "outputs": [],
   "source": [
    "all_drugs_AD = pd.concat(list_AD_data, ignore_index=True)\n",
    "all_drugs = pd.concat(list_no_AD_data, ignore_index=True)"
   ]
  },
  {
   "cell_type": "code",
   "execution_count": 1158,
   "id": "6da9d34c",
   "metadata": {},
   "outputs": [],
   "source": [
    "all_drugs_AD.date = pd.to_datetime(all_drugs_AD.date)\n",
    "all_drugs.date = pd.to_datetime(all_drugs.date)"
   ]
  },
  {
   "cell_type": "code",
   "execution_count": 1159,
   "id": "f22eb985",
   "metadata": {},
   "outputs": [
    {
     "data": {
      "text/plain": [
       "17416.6"
      ]
     },
     "execution_count": 1159,
     "metadata": {},
     "output_type": "execute_result"
    }
   ],
   "source": [
    "all_drugs_AD.groupby(['date'],as_index=False).agg({'realization':'sum'}).realization.mean()"
   ]
  },
  {
   "cell_type": "code",
   "execution_count": 1160,
   "id": "9ce4bfe9",
   "metadata": {},
   "outputs": [
    {
     "data": {
      "text/plain": [
       "9698.8"
      ]
     },
     "execution_count": 1160,
     "metadata": {},
     "output_type": "execute_result"
    }
   ],
   "source": [
    "all_drugs.groupby(['date'],as_index=False).agg({'realization':'sum'}).realization.mean()"
   ]
  },
  {
   "cell_type": "code",
   "execution_count": 1161,
   "id": "e5c76296",
   "metadata": {
    "scrolled": true
   },
   "outputs": [
    {
     "data": {
      "text/plain": [
       "(8406, 6)"
      ]
     },
     "execution_count": 1161,
     "metadata": {},
     "output_type": "execute_result"
    }
   ],
   "source": [
    "# all_drugs_AD = all_drugs_AD.sample(all_drugs.shape[0])\n",
    "all_drugs_AD.shape"
   ]
  },
  {
   "cell_type": "code",
   "execution_count": 1169,
   "id": "242dc9b2",
   "metadata": {},
   "outputs": [
    {
     "data": {
      "text/plain": [
       "(6594, 6)"
      ]
     },
     "execution_count": 1169,
     "metadata": {},
     "output_type": "execute_result"
    }
   ],
   "source": [
    "all_drugs.shape"
   ]
  },
  {
   "cell_type": "code",
   "execution_count": 1163,
   "id": "0b5cd3bc",
   "metadata": {},
   "outputs": [
    {
     "data": {
      "text/plain": [
       "(8406, 6)"
      ]
     },
     "execution_count": 1163,
     "metadata": {},
     "output_type": "execute_result"
    }
   ],
   "source": [
    "all_drugs_AD.reset_index(drop=True, inplace=True)\n",
    "all_drugs_AD.shape"
   ]
  },
  {
   "cell_type": "code",
   "execution_count": 1172,
   "id": "3afe29c8",
   "metadata": {},
   "outputs": [
    {
     "data": {
      "text/plain": [
       "(1665, 6)"
      ]
     },
     "execution_count": 1172,
     "metadata": {},
     "output_type": "execute_result"
    }
   ],
   "source": [
    "# Данные по аптекам без рекламы, бренды из группы рекламных \n",
    "ap = all_drugs.query('new_drug_name in @s')\n",
    "ap.reset_index(inplace=True, drop=True)\n",
    "ap.shape"
   ]
  },
  {
   "cell_type": "code",
   "execution_count": 1173,
   "id": "ab648e45",
   "metadata": {},
   "outputs": [
    {
     "data": {
      "text/plain": [
       "(4929, 6)"
      ]
     },
     "execution_count": 1173,
     "metadata": {},
     "output_type": "execute_result"
    }
   ],
   "source": [
    "# Данные по аптекам без рекламы бренды из группы не рекламных \n",
    "ap_all = all_drugs.query('new_drug_name not in @s')\n",
    "ap_all.reset_index(inplace=True, drop=True)\n",
    "ap_all.shape"
   ]
  },
  {
   "cell_type": "code",
   "execution_count": 1176,
   "id": "b5c13382",
   "metadata": {},
   "outputs": [
    {
     "data": {
      "text/plain": [
       "(1665, 6)"
      ]
     },
     "execution_count": 1176,
     "metadata": {},
     "output_type": "execute_result"
    }
   ],
   "source": [
    "# Данные по аптекам с рекламой, бренды c рекламой\n",
    "AD_ap = all_drugs_AD.query('new_drug_name in @s')\n",
    "AD_ap.reset_index(inplace=True, drop=True)\n",
    "AD_ap = AD_ap.sample(ap.shape[0])\n",
    "AD_ap.shape"
   ]
  },
  {
   "cell_type": "code",
   "execution_count": 1177,
   "id": "b8d56b45",
   "metadata": {},
   "outputs": [
    {
     "data": {
      "text/plain": [
       "(4929, 6)"
      ]
     },
     "execution_count": 1177,
     "metadata": {},
     "output_type": "execute_result"
    }
   ],
   "source": [
    "# Данные по аптекам с рекламой, бренды без рекламы \n",
    "AD_ap_all = all_drugs_AD.query('new_drug_name not in @s')\n",
    "AD_ap_all.reset_index(inplace=True, drop=True)\n",
    "AD_ap_all = AD_ap_all.sample(ap_all.shape[0])\n",
    "AD_ap_all.shape\n"
   ]
  },
  {
   "cell_type": "code",
   "execution_count": null,
   "id": "ee8c30b8",
   "metadata": {},
   "outputs": [],
   "source": []
  },
  {
   "cell_type": "code",
   "execution_count": null,
   "id": "5b10199e",
   "metadata": {},
   "outputs": [],
   "source": []
  },
  {
   "cell_type": "code",
   "execution_count": null,
   "id": "94ac604c",
   "metadata": {},
   "outputs": [],
   "source": []
  },
  {
   "cell_type": "code",
   "execution_count": null,
   "id": "3befb2ab",
   "metadata": {},
   "outputs": [],
   "source": []
  },
  {
   "cell_type": "code",
   "execution_count": 1178,
   "id": "5f537813",
   "metadata": {},
   "outputs": [
    {
     "data": {
      "text/plain": [
       "Text(0, 0.5, 'Объём продаж в шт.')"
      ]
     },
     "execution_count": 1178,
     "metadata": {},
     "output_type": "execute_result"
    },
    {
     "data": {
      "image/png": "[encoded data removed]",
      "text/plain": [
       "<Figure size 1000x800 with 1 Axes>"
      ]
     },
     "metadata": {},
     "output_type": "display_data"
    }
   ],
   "source": [
    "#1 График средних продаж ALL_SKU(всех продуктов) исключая рекламируемые препараты('АЦЦ','Бронхо-мунал','Экзодерил','Линекс')\n",
    "# sns.set_theme(style=\"whitegrid\")\n",
    "sns.set(rc={'figure.figsize':(10,8)})\n",
    "sns.set_theme(style=\"whitegrid\")\n",
    "ex = all_drugs_AD.groupby(['date']).agg({'realization':'sum'}) \\\n",
    "    .rename(columns={'realization':'Продажи по аптекам с рекламой'})\n",
    "wx = all_drugs.groupby(['date']).agg({'realization':'sum'}) \\\n",
    "    .rename(columns={'realization':'Продажи по аптекам без рекламы'})\n",
    "ex.reset_index(inplace=True)\n",
    "wx.reset_index(inplace=True)\n",
    "\n",
    "ax = ex.merge(wx, how='inner', on = 'date')\n",
    "\n",
    "\n",
    "\n",
    "g = sns.lineplot(ax, linewidth=2.5)\n",
    "g.set_xticks(range(len(ax)))\n",
    "g.set_xticklabels(['2022-09','2022-10','2022-11','2022-12','2023-01'])\n",
    "\n",
    "\n",
    "plt.title(\"График продаж ALL_SKU(всех продуктов) исключая рекламируемые бренды 'АЦЦ','Бронхо-мунал','Экзодерил','Линекс'\\n\\n \")\n",
    "plt.xlabel('Дата')\n",
    "plt.ylabel('Объём продаж в шт.')\n"
   ]
  },
  {
   "cell_type": "code",
   "execution_count": 1179,
   "id": "a47ad558",
   "metadata": {},
   "outputs": [
    {
     "data": {
      "text/plain": [
       "Text(0, 0.5, 'Объём продаж в шт.')"
      ]
     },
     "execution_count": 1179,
     "metadata": {},
     "output_type": "execute_result"
    },
    {
     "data": {
      "image/png": "[encoded data removed]",
      "text/plain": [
       "<Figure size 1000x800 with 1 Axes>"
      ]
     },
     "metadata": {},
     "output_type": "display_data"
    }
   ],
   "source": [
    "#2 График средних продаж  рекламируемых препаратов 'АЦЦ','Бронхо-мунал','Экзодерил','Линекс'\n",
    "\n",
    "sns.set_theme(style=\"whitegrid\")\n",
    "ex = AD_ap.groupby('date')\\\n",
    "    .agg({'realization':'sum'}) \\\n",
    "    .rename(columns={'realization':'Продажи по аптекам с рекламой'})\n",
    "\n",
    "\n",
    "\n",
    "wx = ap.groupby('date').agg({'realization':'sum'}).rename(columns={'realization':'Продажи по аптекам без рекламы'})\n",
    "ex.reset_index(inplace=True)\n",
    "wx.reset_index(inplace=True)\n",
    "\n",
    "ax = ex.merge(wx, how='inner', on = 'date')\n",
    "\n",
    "g = sns.lineplot(ax, linewidth=2.5)\n",
    "g.set_xticks(range(len(ax)))\n",
    "g.set_xticklabels(['2022-09','2022-10','2022-11','2022-12','2023-01'])\n",
    "\n",
    "plt.title(\"График продаж  рекламируемых брендов 'АЦЦ','Бронхо-мунал','Экзодерил','Линекс'\\n\\n \")\n",
    "plt.xlabel('Дата')\n",
    "plt.ylabel('Объём продаж в шт.')\n",
    "\n",
    "\n",
    "\n",
    "\n"
   ]
  },
  {
   "cell_type": "code",
   "execution_count": 1180,
   "id": "0e57c2b8",
   "metadata": {},
   "outputs": [
    {
     "data": {
      "text/html": [
       "<div>\n",
       "<style scoped>\n",
       "    .dataframe tbody tr th:only-of-type {\n",
       "        vertical-align: middle;\n",
       "    }\n",
       "\n",
       "    .dataframe tbody tr th {\n",
       "        vertical-align: top;\n",
       "    }\n",
       "\n",
       "    .dataframe thead th {\n",
       "        text-align: right;\n",
       "    }\n",
       "</style>\n",
       "<table border=\"1\" class=\"dataframe\">\n",
       "  <thead>\n",
       "    <tr style=\"text-align: right;\">\n",
       "      <th></th>\n",
       "      <th>date</th>\n",
       "      <th>Продажи по аптекам с рекламой</th>\n",
       "      <th>Продажи по аптекам без рекламы</th>\n",
       "    </tr>\n",
       "  </thead>\n",
       "  <tbody>\n",
       "    <tr>\n",
       "      <th>0</th>\n",
       "      <td>2022-09-01</td>\n",
       "      <td>4167.0</td>\n",
       "      <td>2326.0</td>\n",
       "    </tr>\n",
       "    <tr>\n",
       "      <th>1</th>\n",
       "      <td>2022-10-01</td>\n",
       "      <td>3823.0</td>\n",
       "      <td>2850.0</td>\n",
       "    </tr>\n",
       "    <tr>\n",
       "      <th>2</th>\n",
       "      <td>2022-11-01</td>\n",
       "      <td>2651.0</td>\n",
       "      <td>1730.0</td>\n",
       "    </tr>\n",
       "    <tr>\n",
       "      <th>3</th>\n",
       "      <td>2022-12-01</td>\n",
       "      <td>4807.0</td>\n",
       "      <td>3764.0</td>\n",
       "    </tr>\n",
       "    <tr>\n",
       "      <th>4</th>\n",
       "      <td>2023-01-01</td>\n",
       "      <td>6438.0</td>\n",
       "      <td>3934.0</td>\n",
       "    </tr>\n",
       "  </tbody>\n",
       "</table>\n",
       "</div>"
      ],
      "text/plain": [
       "        date  Продажи по аптекам с рекламой  Продажи по аптекам без рекламы\n",
       "0 2022-09-01                         4167.0                          2326.0\n",
       "1 2022-10-01                         3823.0                          2850.0\n",
       "2 2022-11-01                         2651.0                          1730.0\n",
       "3 2022-12-01                         4807.0                          3764.0\n",
       "4 2023-01-01                         6438.0                          3934.0"
      ]
     },
     "execution_count": 1180,
     "metadata": {},
     "output_type": "execute_result"
    }
   ],
   "source": [
    "ax"
   ]
  },
  {
   "cell_type": "code",
   "execution_count": 1181,
   "id": "deabfe45",
   "metadata": {},
   "outputs": [],
   "source": [
    "ax['Дельта'] =  ( ax['Продажи по аптекам с рекламой'] / ax['Продажи по аптекам без рекламы']  - 1 )*100"
   ]
  },
  {
   "cell_type": "code",
   "execution_count": null,
   "id": "3f8891ac",
   "metadata": {},
   "outputs": [],
   "source": []
  },
  {
   "cell_type": "code",
   "execution_count": 1182,
   "id": "96ceec21",
   "metadata": {
    "scrolled": false
   },
   "outputs": [
    {
     "data": {
      "text/plain": [
       "Text(0, 0.5, 'Дельта \"%\"')"
      ]
     },
     "execution_count": 1182,
     "metadata": {},
     "output_type": "execute_result"
    },
    {
     "data": {
      "image/png": "[encoded data removed]",
      "text/plain": [
       "<Figure size 1000x800 with 1 Axes>"
      ]
     },
     "metadata": {},
     "output_type": "display_data"
    }
   ],
   "source": [
    "g = sns.lineplot(ax['Дельта'], linewidth=2.5)\n",
    "g.set_xticks(range(len(ax)))\n",
    "g.set_xticklabels(['2022-09','2022-10','2022-11','2022-12','2023-01'])\n",
    "\n",
    "plt.title(\"График дельты рекламируемых препаратов 'АЦЦ','Бронхо-мунал','Экзодерил','Линекс' \\n\\n \")\n",
    "plt.xlabel('Дата')\n",
    "plt.ylabel('Дельта \"%\"')"
   ]
  },
  {
   "cell_type": "code",
   "execution_count": 1183,
   "id": "305205aa",
   "metadata": {
    "scrolled": true
   },
   "outputs": [
    {
     "data": {
      "text/html": [
       "<div>\n",
       "<style scoped>\n",
       "    .dataframe tbody tr th:only-of-type {\n",
       "        vertical-align: middle;\n",
       "    }\n",
       "\n",
       "    .dataframe tbody tr th {\n",
       "        vertical-align: top;\n",
       "    }\n",
       "\n",
       "    .dataframe thead th {\n",
       "        text-align: right;\n",
       "    }\n",
       "</style>\n",
       "<table border=\"1\" class=\"dataframe\">\n",
       "  <thead>\n",
       "    <tr style=\"text-align: right;\">\n",
       "      <th>new_drug_name</th>\n",
       "      <th>АЦЦ</th>\n",
       "      <th>Бронхо-мунал</th>\n",
       "      <th>Линекс</th>\n",
       "      <th>Экзодерил</th>\n",
       "    </tr>\n",
       "    <tr>\n",
       "      <th>date</th>\n",
       "      <th></th>\n",
       "      <th></th>\n",
       "      <th></th>\n",
       "      <th></th>\n",
       "    </tr>\n",
       "  </thead>\n",
       "  <tbody>\n",
       "    <tr>\n",
       "      <th>2022-09-01</th>\n",
       "      <td>67.797619</td>\n",
       "      <td>70.289855</td>\n",
       "      <td>84.634761</td>\n",
       "      <td>242.342342</td>\n",
       "    </tr>\n",
       "    <tr>\n",
       "      <th>2022-10-01</th>\n",
       "      <td>26.096396</td>\n",
       "      <td>41.441441</td>\n",
       "      <td>64.285714</td>\n",
       "      <td>93.589744</td>\n",
       "    </tr>\n",
       "    <tr>\n",
       "      <th>2022-11-01</th>\n",
       "      <td>54.838710</td>\n",
       "      <td>1.408451</td>\n",
       "      <td>72.238806</td>\n",
       "      <td>13.043478</td>\n",
       "    </tr>\n",
       "    <tr>\n",
       "      <th>2022-12-01</th>\n",
       "      <td>29.083246</td>\n",
       "      <td>-18.627451</td>\n",
       "      <td>28.977273</td>\n",
       "      <td>54.054054</td>\n",
       "    </tr>\n",
       "    <tr>\n",
       "      <th>2023-01-01</th>\n",
       "      <td>68.400132</td>\n",
       "      <td>15.000000</td>\n",
       "      <td>57.624113</td>\n",
       "      <td>50.877193</td>\n",
       "    </tr>\n",
       "  </tbody>\n",
       "</table>\n",
       "</div>"
      ],
      "text/plain": [
       "new_drug_name        АЦЦ  Бронхо-мунал     Линекс   Экзодерил\n",
       "date                                                         \n",
       "2022-09-01     67.797619     70.289855  84.634761  242.342342\n",
       "2022-10-01     26.096396     41.441441  64.285714   93.589744\n",
       "2022-11-01     54.838710      1.408451  72.238806   13.043478\n",
       "2022-12-01     29.083246    -18.627451  28.977273   54.054054\n",
       "2023-01-01     68.400132     15.000000  57.624113   50.877193"
      ]
     },
     "execution_count": 1183,
     "metadata": {},
     "output_type": "execute_result"
    }
   ],
   "source": [
    "ex = AD_ap.groupby(['date','new_drug_name'],as_index=False).agg({'realization':'sum'}).rename(columns={'realization':\n",
    "                                                                                        'По аптекам с рекламой бренды АЦЦ, Бронхо-мунал, Экзодерил, Линекс'\n",
    "                                                                                        })\n",
    "wx =ap.groupby(['date','new_drug_name'],as_index=False).agg({'realization':'sum'}).rename(columns={'realization':\n",
    "                                                                                    'По аптекам без рекламы бренды АЦЦ, Бронхо-мунал, Экзодерил, Линекс'\n",
    "                                                                                    })\n",
    "\n",
    "ax = ex.merge(wx, how='inner', on = ['date','new_drug_name'])\n",
    "\n",
    "ax['Дельта в %']= ( (ax['По аптекам с рекламой бренды АЦЦ, Бронхо-мунал, Экзодерил, Линекс']) / ax['По аптекам без рекламы бренды АЦЦ, Бронхо-мунал, Экзодерил, Линекс'] - 1 ) * 100\n",
    "ax\n",
    "ax = ax.pivot(index='date', columns='new_drug_name', values='Дельта в %')\n",
    "ax"
   ]
  },
  {
   "cell_type": "code",
   "execution_count": 1184,
   "id": "ae6ef5db",
   "metadata": {},
   "outputs": [
    {
     "data": {
      "text/plain": [
       "5"
      ]
     },
     "execution_count": 1184,
     "metadata": {},
     "output_type": "execute_result"
    }
   ],
   "source": [
    "len(ax)"
   ]
  },
  {
   "cell_type": "code",
   "execution_count": 1185,
   "id": "5395d169",
   "metadata": {},
   "outputs": [
    {
     "data": {
      "text/plain": [
       "Text(0, 0.5, 'Дельта \"%\"')"
      ]
     },
     "execution_count": 1185,
     "metadata": {},
     "output_type": "execute_result"
    },
    {
     "data": {
      "image/png": "[encoded data removed]",
      "text/plain": [
       "<Figure size 1000x800 with 1 Axes>"
      ]
     },
     "metadata": {},
     "output_type": "display_data"
    }
   ],
   "source": [
    "g = sns.lineplot(ax, linewidth=2.5)\n",
    "\n",
    "# g.set_xticks(range(len(ax)))\n",
    "# g.set_xticklabels(['2022-09','2022-10','2022-11','2022-12','2023-01'])\n",
    "\n",
    "plt.title(\"Дельта по каждому бренду АЦЦ, Бронх-мунал, Экзодерил, Линекс за 6 месяцев\\n\\n \")\n",
    "plt.xlabel('Дата')\n",
    "plt.ylabel('Дельта \"%\"')"
   ]
  },
  {
   "cell_type": "code",
   "execution_count": null,
   "id": "711d2fea",
   "metadata": {},
   "outputs": [],
   "source": []
  },
  {
   "cell_type": "code",
   "execution_count": null,
   "id": "67f51a99",
   "metadata": {},
   "outputs": [],
   "source": []
  },
  {
   "cell_type": "code",
   "execution_count": null,
   "id": "ac1dcacc",
   "metadata": {},
   "outputs": [],
   "source": []
  },
  {
   "cell_type": "code",
   "execution_count": null,
   "id": "46713701",
   "metadata": {},
   "outputs": [],
   "source": []
  },
  {
   "cell_type": "code",
   "execution_count": 280,
   "id": "46923ddd",
   "metadata": {
    "collapsed": true
   },
   "outputs": [
    {
     "data": {
      "text/plain": [
       "<AxesSubplot: xlabel='date'>"
      ]
     },
     "execution_count": 280,
     "metadata": {},
     "output_type": "execute_result"
    },
    {
     "data": {
      "image/png": "[encoded data removed]",
      "text/plain": [
       "<Figure size 1000x800 with 1 Axes>"
      ]
     },
     "metadata": {},
     "output_type": "display_data"
    }
   ],
   "source": [
    "#1 График средних продаж ALL_SKU(всех продуктов) исключая рекламируемые препараты('АЦЦ','Бронхо-мунал','Экзодерил','Линекс')\n",
    "#2 График средних продаж  рекламируемых препаратов ('АЦЦ','Бронхо-мунал','Экзодерил','Линекс')\n",
    "#3 График дельты рекламируемых препаратов ('АЦЦ','Бронхо-мунал','Экзодерил','Линекс')\n",
    "#4 дельта по каждому бренду ('АЦЦ','Бронхо-мунал','Экзодерил','Линекс') за 6 месяцев\n",
    "\n",
    "# sns.set(rc={'figure.figsize':(10,8)})\n",
    "# sns.set_style(\"darkgrid\")\n",
    "# sns.lineplot(all_drugs_AD.groupby('date').agg({'realization':'sum'}))\n",
    "\n",
    "# sns.lineplot(all_drugs.groupby('date').agg({'realization':'sum'})\n",
    "#              ,legend=False)\n",
    "\n",
    "# plt.legend(title='График средних продаж ALL_SKU', loc='upper left', labels=)\n",
    "\n"
   ]
  },
  {
   "cell_type": "code",
   "execution_count": 1214,
   "id": "bd69e773",
   "metadata": {},
   "outputs": [
    {
     "data": {
      "text/html": [
       "<div>\n",
       "<style scoped>\n",
       "    .dataframe tbody tr th:only-of-type {\n",
       "        vertical-align: middle;\n",
       "    }\n",
       "\n",
       "    .dataframe tbody tr th {\n",
       "        vertical-align: top;\n",
       "    }\n",
       "\n",
       "    .dataframe thead th {\n",
       "        text-align: right;\n",
       "    }\n",
       "</style>\n",
       "<table border=\"1\" class=\"dataframe\">\n",
       "  <thead>\n",
       "    <tr style=\"text-align: right;\">\n",
       "      <th></th>\n",
       "      <th>drug_name</th>\n",
       "      <th>ap_name</th>\n",
       "      <th>realization</th>\n",
       "      <th>new_drug_name</th>\n",
       "      <th>new_name</th>\n",
       "      <th>date</th>\n",
       "      <th>Категория</th>\n",
       "    </tr>\n",
       "  </thead>\n",
       "  <tbody>\n",
       "    <tr>\n",
       "      <th>722</th>\n",
       "      <td>АЦЦ пор-к для приг. р-ра для приема внутрь 100...</td>\n",
       "      <td>Аптека №111 от ЦРА № 198 Молодечненского р-на</td>\n",
       "      <td>25.0</td>\n",
       "      <td>АЦЦ</td>\n",
       "      <td>Аптека N111</td>\n",
       "      <td>2023-01-01</td>\n",
       "      <td>Рекламный</td>\n",
       "    </tr>\n",
       "    <tr>\n",
       "      <th>593</th>\n",
       "      <td>АЦЦ 200 таблетки шипуч. 200мг туба №20</td>\n",
       "      <td>Аптека №102 от ЦГА № 192 г.Жодино</td>\n",
       "      <td>20.0</td>\n",
       "      <td>АЦЦ</td>\n",
       "      <td>Аптека N102</td>\n",
       "      <td>2023-01-01</td>\n",
       "      <td>Рекламный</td>\n",
       "    </tr>\n",
       "    <tr>\n",
       "      <th>1608</th>\n",
       "      <td>АЦЦ сироп 20мг/мл 100мл флакон №1</td>\n",
       "      <td>Аптека №224 от ЦРА №123 Воложинского р-на</td>\n",
       "      <td>2.0</td>\n",
       "      <td>АЦЦ</td>\n",
       "      <td>Аптека N224</td>\n",
       "      <td>2022-10-01</td>\n",
       "      <td>Рекламный</td>\n",
       "    </tr>\n",
       "    <tr>\n",
       "      <th>2177</th>\n",
       "      <td>Экзодерил крем для наруж. прим. 10мг/г 15г туб...</td>\n",
       "      <td>Аптека №315 от ЦРА № 25 Пуховичского района</td>\n",
       "      <td>10.0</td>\n",
       "      <td>Экзодерил</td>\n",
       "      <td>Аптека N315</td>\n",
       "      <td>2022-12-01</td>\n",
       "      <td>Рекламный</td>\n",
       "    </tr>\n",
       "    <tr>\n",
       "      <th>305</th>\n",
       "      <td>Бронхо-мунал П капсулы 3,5мг упаковка №10</td>\n",
       "      <td>Аптека №189 от ЦГА №192 г.Жодино</td>\n",
       "      <td>1.0</td>\n",
       "      <td>Бронхо-мунал</td>\n",
       "      <td>Аптека N189</td>\n",
       "      <td>2022-09-01</td>\n",
       "      <td>Рекламный</td>\n",
       "    </tr>\n",
       "    <tr>\n",
       "      <th>...</th>\n",
       "      <td>...</td>\n",
       "      <td>...</td>\n",
       "      <td>...</td>\n",
       "      <td>...</td>\n",
       "      <td>...</td>\n",
       "      <td>...</td>\n",
       "      <td>...</td>\n",
       "    </tr>\n",
       "    <tr>\n",
       "      <th>299</th>\n",
       "      <td>Бронхо-мунал П капсулы 3,5мг упаковка №10</td>\n",
       "      <td>Аптека №219 от ЦРА № 118 Вилейского ...</td>\n",
       "      <td>2.0</td>\n",
       "      <td>Бронхо-мунал</td>\n",
       "      <td>Аптека N219</td>\n",
       "      <td>2022-09-01</td>\n",
       "      <td>Рекламный</td>\n",
       "    </tr>\n",
       "    <tr>\n",
       "      <th>25</th>\n",
       "      <td>АЦЦ 200 таблетки шипуч. 200мг туба №20</td>\n",
       "      <td>ЦРА №198 Молодечненского района</td>\n",
       "      <td>40.0</td>\n",
       "      <td>АЦЦ</td>\n",
       "      <td>ЦРА N198</td>\n",
       "      <td>2022-09-01</td>\n",
       "      <td>Рекламный</td>\n",
       "    </tr>\n",
       "    <tr>\n",
       "      <th>387</th>\n",
       "      <td>Линекс капсулы блистер №32</td>\n",
       "      <td>Аптека №60 от ЦРА № 198 Молодечненск...</td>\n",
       "      <td>5.0</td>\n",
       "      <td>Линекс</td>\n",
       "      <td>Аптека N60</td>\n",
       "      <td>2022-09-01</td>\n",
       "      <td>Рекламный</td>\n",
       "    </tr>\n",
       "    <tr>\n",
       "      <th>702</th>\n",
       "      <td>АЦЦ пор-к для приг. р-ра для приема внутрь 100...</td>\n",
       "      <td>ЦРА №118 Вилейского района</td>\n",
       "      <td>20.0</td>\n",
       "      <td>АЦЦ</td>\n",
       "      <td>ЦРА N118</td>\n",
       "      <td>2023-01-01</td>\n",
       "      <td>Рекламный</td>\n",
       "    </tr>\n",
       "    <tr>\n",
       "      <th>674</th>\n",
       "      <td>АЦЦ Лонг таблетки шипуч. 600мг туба №10</td>\n",
       "      <td>ЦРА №24 Логойского района</td>\n",
       "      <td>60.0</td>\n",
       "      <td>АЦЦ</td>\n",
       "      <td>ЦРА N24</td>\n",
       "      <td>2023-01-01</td>\n",
       "      <td>Рекламный</td>\n",
       "    </tr>\n",
       "  </tbody>\n",
       "</table>\n",
       "<p>1665 rows × 7 columns</p>\n",
       "</div>"
      ],
      "text/plain": [
       "                                              drug_name  \\\n",
       "722   АЦЦ пор-к для приг. р-ра для приема внутрь 100...   \n",
       "593              АЦЦ 200 таблетки шипуч. 200мг туба №20   \n",
       "1608                  АЦЦ сироп 20мг/мл 100мл флакон №1   \n",
       "2177  Экзодерил крем для наруж. прим. 10мг/г 15г туб...   \n",
       "305           Бронхо-мунал П капсулы 3,5мг упаковка №10   \n",
       "...                                                 ...   \n",
       "299           Бронхо-мунал П капсулы 3,5мг упаковка №10   \n",
       "25               АЦЦ 200 таблетки шипуч. 200мг туба №20   \n",
       "387                          Линекс капсулы блистер №32   \n",
       "702   АЦЦ пор-к для приг. р-ра для приема внутрь 100...   \n",
       "674             АЦЦ Лонг таблетки шипуч. 600мг туба №10   \n",
       "\n",
       "                                                ap_name  realization  \\\n",
       "722       Аптека №111 от ЦРА № 198 Молодечненского р-на         25.0   \n",
       "593                   Аптека №102 от ЦГА № 192 г.Жодино         20.0   \n",
       "1608          Аптека №224 от ЦРА №123 Воложинского р-на          2.0   \n",
       "2177        Аптека №315 от ЦРА № 25 Пуховичского района         10.0   \n",
       "305                    Аптека №189 от ЦГА №192 г.Жодино          1.0   \n",
       "...                                                 ...          ...   \n",
       "299             Аптека №219 от ЦРА № 118 Вилейского ...          2.0   \n",
       "25                      ЦРА №198 Молодечненского района         40.0   \n",
       "387             Аптека №60 от ЦРА № 198 Молодечненск...          5.0   \n",
       "702                          ЦРА №118 Вилейского района         20.0   \n",
       "674                           ЦРА №24 Логойского района         60.0   \n",
       "\n",
       "     new_drug_name     new_name       date  Категория  \n",
       "722            АЦЦ  Аптека N111 2023-01-01  Рекламный  \n",
       "593            АЦЦ  Аптека N102 2023-01-01  Рекламный  \n",
       "1608           АЦЦ  Аптека N224 2022-10-01  Рекламный  \n",
       "2177     Экзодерил  Аптека N315 2022-12-01  Рекламный  \n",
       "305   Бронхо-мунал  Аптека N189 2022-09-01  Рекламный  \n",
       "...            ...          ...        ...        ...  \n",
       "299   Бронхо-мунал  Аптека N219 2022-09-01  Рекламный  \n",
       "25             АЦЦ     ЦРА N198 2022-09-01  Рекламный  \n",
       "387         Линекс   Аптека N60 2022-09-01  Рекламный  \n",
       "702            АЦЦ     ЦРА N118 2023-01-01  Рекламный  \n",
       "674            АЦЦ      ЦРА N24 2023-01-01  Рекламный  \n",
       "\n",
       "[1665 rows x 7 columns]"
      ]
     },
     "execution_count": 1214,
     "metadata": {},
     "output_type": "execute_result"
    }
   ],
   "source": [
    "AD_ap['Категория'] = 'Рекламный'\n",
    "AD_ap = AD_ap.sample(ap.shape[0])\n",
    "AD_ap"
   ]
  },
  {
   "cell_type": "code",
   "execution_count": 1212,
   "id": "53bd88d4",
   "metadata": {},
   "outputs": [
    {
     "name": "stderr",
     "output_type": "stream",
     "text": [
      "/var/folders/98/cq77c4j90csgl9c58kjw89dm0000gn/T/ipykernel_424/533679899.py:1: SettingWithCopyWarning: \n",
      "A value is trying to be set on a copy of a slice from a DataFrame.\n",
      "Try using .loc[row_indexer,col_indexer] = value instead\n",
      "\n",
      "See the caveats in the documentation: https://pandas.pydata.org/pandas-docs/stable/user_guide/indexing.html#returning-a-view-versus-a-copy\n",
      "  ap['Категория'] = 'Не рекламный'\n"
     ]
    },
    {
     "data": {
      "text/html": [
       "<div>\n",
       "<style scoped>\n",
       "    .dataframe tbody tr th:only-of-type {\n",
       "        vertical-align: middle;\n",
       "    }\n",
       "\n",
       "    .dataframe tbody tr th {\n",
       "        vertical-align: top;\n",
       "    }\n",
       "\n",
       "    .dataframe thead th {\n",
       "        text-align: right;\n",
       "    }\n",
       "</style>\n",
       "<table border=\"1\" class=\"dataframe\">\n",
       "  <thead>\n",
       "    <tr style=\"text-align: right;\">\n",
       "      <th></th>\n",
       "      <th>drug_name</th>\n",
       "      <th>ap_name</th>\n",
       "      <th>realization</th>\n",
       "      <th>new_drug_name</th>\n",
       "      <th>new_name</th>\n",
       "      <th>date</th>\n",
       "      <th>Категория</th>\n",
       "    </tr>\n",
       "  </thead>\n",
       "  <tbody>\n",
       "    <tr>\n",
       "      <th>0</th>\n",
       "      <td>АЦЦ 200 таблетки шипуч. 200мг туба №20</td>\n",
       "      <td>ЦРА №19 Березинского района</td>\n",
       "      <td>20.0</td>\n",
       "      <td>АЦЦ</td>\n",
       "      <td>ЦРА N19</td>\n",
       "      <td>2022-09-01</td>\n",
       "      <td>Не рекламный</td>\n",
       "    </tr>\n",
       "    <tr>\n",
       "      <th>1</th>\n",
       "      <td>АЦЦ 200 таблетки шипуч. 200мг туба №20</td>\n",
       "      <td>Аптека №225 от ЦРА №218 Дзержинского...</td>\n",
       "      <td>12.0</td>\n",
       "      <td>АЦЦ</td>\n",
       "      <td>Аптека N225</td>\n",
       "      <td>2022-09-01</td>\n",
       "      <td>Не рекламный</td>\n",
       "    </tr>\n",
       "    <tr>\n",
       "      <th>2</th>\n",
       "      <td>АЦЦ 200 таблетки шипуч. 200мг туба №20</td>\n",
       "      <td>ЦРА №1 Клецкого района</td>\n",
       "      <td>10.0</td>\n",
       "      <td>АЦЦ</td>\n",
       "      <td>ЦРА N1</td>\n",
       "      <td>2022-09-01</td>\n",
       "      <td>Не рекламный</td>\n",
       "    </tr>\n",
       "    <tr>\n",
       "      <th>3</th>\n",
       "      <td>АЦЦ 200 таблетки шипуч. 200мг туба №20</td>\n",
       "      <td>ЦРА №97 Копыльского района</td>\n",
       "      <td>20.0</td>\n",
       "      <td>АЦЦ</td>\n",
       "      <td>ЦРА N97</td>\n",
       "      <td>2022-09-01</td>\n",
       "      <td>Не рекламный</td>\n",
       "    </tr>\n",
       "    <tr>\n",
       "      <th>4</th>\n",
       "      <td>АЦЦ 200 таблетки шипуч. 200мг туба №20</td>\n",
       "      <td>Аптека №82 от ЦРА №97 Копыльского ра...</td>\n",
       "      <td>5.0</td>\n",
       "      <td>АЦЦ</td>\n",
       "      <td>Аптека N82</td>\n",
       "      <td>2022-09-01</td>\n",
       "      <td>Не рекламный</td>\n",
       "    </tr>\n",
       "    <tr>\n",
       "      <th>...</th>\n",
       "      <td>...</td>\n",
       "      <td>...</td>\n",
       "      <td>...</td>\n",
       "      <td>...</td>\n",
       "      <td>...</td>\n",
       "      <td>...</td>\n",
       "      <td>...</td>\n",
       "    </tr>\n",
       "    <tr>\n",
       "      <th>1660</th>\n",
       "      <td>Экзодерил р-р для наруж. прим. 10мг/мл 20мл фл...</td>\n",
       "      <td>Аптека №325 от ЦМА №80 г.Слуцк</td>\n",
       "      <td>1.0</td>\n",
       "      <td>Экзодерил</td>\n",
       "      <td>Аптека N325</td>\n",
       "      <td>2022-12-01</td>\n",
       "      <td>Не рекламный</td>\n",
       "    </tr>\n",
       "    <tr>\n",
       "      <th>1661</th>\n",
       "      <td>Экзодерил р-р для наруж. прим. 10мг/мл 20мл фл...</td>\n",
       "      <td>Аптека №330 от ЦРА №21 Узденского р-на</td>\n",
       "      <td>3.0</td>\n",
       "      <td>Экзодерил</td>\n",
       "      <td>Аптека N330</td>\n",
       "      <td>2022-12-01</td>\n",
       "      <td>Не рекламный</td>\n",
       "    </tr>\n",
       "    <tr>\n",
       "      <th>1662</th>\n",
       "      <td>Экзодерил р-р для наруж. прим. 10мг/мл 20мл фл...</td>\n",
       "      <td>ЦРА №21 Узденского района</td>\n",
       "      <td>8.0</td>\n",
       "      <td>Экзодерил</td>\n",
       "      <td>ЦРА N21</td>\n",
       "      <td>2022-12-01</td>\n",
       "      <td>Не рекламный</td>\n",
       "    </tr>\n",
       "    <tr>\n",
       "      <th>1663</th>\n",
       "      <td>Экзодерил р-р для наруж. прим. 10мг/мл 20мл фл...</td>\n",
       "      <td>ЦРА №20 Червенского района</td>\n",
       "      <td>3.0</td>\n",
       "      <td>Экзодерил</td>\n",
       "      <td>ЦРА N20</td>\n",
       "      <td>2022-12-01</td>\n",
       "      <td>Не рекламный</td>\n",
       "    </tr>\n",
       "    <tr>\n",
       "      <th>1664</th>\n",
       "      <td>Экзодерил р-р для наруж. прим. 10мг/мл 20мл фл...</td>\n",
       "      <td>Аптека №35 от ЦРА №20 Червенского района</td>\n",
       "      <td>4.0</td>\n",
       "      <td>Экзодерил</td>\n",
       "      <td>Аптека N35</td>\n",
       "      <td>2022-12-01</td>\n",
       "      <td>Не рекламный</td>\n",
       "    </tr>\n",
       "  </tbody>\n",
       "</table>\n",
       "<p>1665 rows × 7 columns</p>\n",
       "</div>"
      ],
      "text/plain": [
       "                                              drug_name  \\\n",
       "0                АЦЦ 200 таблетки шипуч. 200мг туба №20   \n",
       "1                АЦЦ 200 таблетки шипуч. 200мг туба №20   \n",
       "2                АЦЦ 200 таблетки шипуч. 200мг туба №20   \n",
       "3                АЦЦ 200 таблетки шипуч. 200мг туба №20   \n",
       "4                АЦЦ 200 таблетки шипуч. 200мг туба №20   \n",
       "...                                                 ...   \n",
       "1660  Экзодерил р-р для наруж. прим. 10мг/мл 20мл фл...   \n",
       "1661  Экзодерил р-р для наруж. прим. 10мг/мл 20мл фл...   \n",
       "1662  Экзодерил р-р для наруж. прим. 10мг/мл 20мл фл...   \n",
       "1663  Экзодерил р-р для наруж. прим. 10мг/мл 20мл фл...   \n",
       "1664  Экзодерил р-р для наруж. прим. 10мг/мл 20мл фл...   \n",
       "\n",
       "                                                ap_name  realization  \\\n",
       "0                           ЦРА №19 Березинского района         20.0   \n",
       "1               Аптека №225 от ЦРА №218 Дзержинского...         12.0   \n",
       "2                                ЦРА №1 Клецкого района         10.0   \n",
       "3                            ЦРА №97 Копыльского района         20.0   \n",
       "4               Аптека №82 от ЦРА №97 Копыльского ра...          5.0   \n",
       "...                                                 ...          ...   \n",
       "1660                     Аптека №325 от ЦМА №80 г.Слуцк          1.0   \n",
       "1661             Аптека №330 от ЦРА №21 Узденского р-на          3.0   \n",
       "1662                          ЦРА №21 Узденского района          8.0   \n",
       "1663                         ЦРА №20 Червенского района          3.0   \n",
       "1664           Аптека №35 от ЦРА №20 Червенского района          4.0   \n",
       "\n",
       "     new_drug_name     new_name       date     Категория  \n",
       "0              АЦЦ      ЦРА N19 2022-09-01  Не рекламный  \n",
       "1              АЦЦ  Аптека N225 2022-09-01  Не рекламный  \n",
       "2              АЦЦ       ЦРА N1 2022-09-01  Не рекламный  \n",
       "3              АЦЦ      ЦРА N97 2022-09-01  Не рекламный  \n",
       "4              АЦЦ   Аптека N82 2022-09-01  Не рекламный  \n",
       "...            ...          ...        ...           ...  \n",
       "1660     Экзодерил  Аптека N325 2022-12-01  Не рекламный  \n",
       "1661     Экзодерил  Аптека N330 2022-12-01  Не рекламный  \n",
       "1662     Экзодерил      ЦРА N21 2022-12-01  Не рекламный  \n",
       "1663     Экзодерил      ЦРА N20 2022-12-01  Не рекламный  \n",
       "1664     Экзодерил   Аптека N35 2022-12-01  Не рекламный  \n",
       "\n",
       "[1665 rows x 7 columns]"
      ]
     },
     "execution_count": 1212,
     "metadata": {},
     "output_type": "execute_result"
    }
   ],
   "source": [
    "ap['Категория'] = 'Не рекламный'\n",
    "ap"
   ]
  },
  {
   "cell_type": "code",
   "execution_count": 1217,
   "id": "2206ee07",
   "metadata": {},
   "outputs": [
    {
     "data": {
      "text/html": [
       "<div>\n",
       "<style scoped>\n",
       "    .dataframe tbody tr th:only-of-type {\n",
       "        vertical-align: middle;\n",
       "    }\n",
       "\n",
       "    .dataframe tbody tr th {\n",
       "        vertical-align: top;\n",
       "    }\n",
       "\n",
       "    .dataframe thead th {\n",
       "        text-align: right;\n",
       "    }\n",
       "</style>\n",
       "<table border=\"1\" class=\"dataframe\">\n",
       "  <thead>\n",
       "    <tr style=\"text-align: right;\">\n",
       "      <th></th>\n",
       "      <th>new_drug_name</th>\n",
       "      <th>Категория</th>\n",
       "      <th>realization</th>\n",
       "    </tr>\n",
       "  </thead>\n",
       "  <tbody>\n",
       "    <tr>\n",
       "      <th>0</th>\n",
       "      <td>АЦЦ</td>\n",
       "      <td>Не рекламный</td>\n",
       "      <td>8.453488</td>\n",
       "    </tr>\n",
       "    <tr>\n",
       "      <th>1</th>\n",
       "      <td>АЦЦ</td>\n",
       "      <td>Рекламный</td>\n",
       "      <td>12.930233</td>\n",
       "    </tr>\n",
       "    <tr>\n",
       "      <th>2</th>\n",
       "      <td>Бронхо-мунал</td>\n",
       "      <td>Не рекламный</td>\n",
       "      <td>3.095238</td>\n",
       "    </tr>\n",
       "    <tr>\n",
       "      <th>3</th>\n",
       "      <td>Бронхо-мунал</td>\n",
       "      <td>Рекламный</td>\n",
       "      <td>4.023256</td>\n",
       "    </tr>\n",
       "    <tr>\n",
       "      <th>4</th>\n",
       "      <td>Линекс</td>\n",
       "      <td>Не рекламный</td>\n",
       "      <td>3.802326</td>\n",
       "    </tr>\n",
       "    <tr>\n",
       "      <th>5</th>\n",
       "      <td>Линекс</td>\n",
       "      <td>Рекламный</td>\n",
       "      <td>6.104651</td>\n",
       "    </tr>\n",
       "    <tr>\n",
       "      <th>6</th>\n",
       "      <td>Экзодерил</td>\n",
       "      <td>Не рекламный</td>\n",
       "      <td>2.627907</td>\n",
       "    </tr>\n",
       "    <tr>\n",
       "      <th>7</th>\n",
       "      <td>Экзодерил</td>\n",
       "      <td>Рекламный</td>\n",
       "      <td>4.732558</td>\n",
       "    </tr>\n",
       "  </tbody>\n",
       "</table>\n",
       "</div>"
      ],
      "text/plain": [
       "  new_drug_name     Категория  realization\n",
       "0           АЦЦ  Не рекламный     8.453488\n",
       "1           АЦЦ     Рекламный    12.930233\n",
       "2  Бронхо-мунал  Не рекламный     3.095238\n",
       "3  Бронхо-мунал     Рекламный     4.023256\n",
       "4        Линекс  Не рекламный     3.802326\n",
       "5        Линекс     Рекламный     6.104651\n",
       "6     Экзодерил  Не рекламный     2.627907\n",
       "7     Экзодерил     Рекламный     4.732558"
      ]
     },
     "execution_count": 1217,
     "metadata": {},
     "output_type": "execute_result"
    }
   ],
   "source": [
    "mix_data = pd.concat([AD_ap,ap], ignore_index=True)\n",
    "mix_data = mix_data.groupby(['new_drug_name','Категория','new_name']).agg({'realization':'median'}) \\\n",
    "    .groupby(['new_drug_name','Категория']).agg({'realization':'mean'})\n",
    "mix_data.reset_index(inplace=True)\n",
    "mix_data"
   ]
  },
  {
   "cell_type": "code",
   "execution_count": 1221,
   "id": "d4373a31",
   "metadata": {},
   "outputs": [],
   "source": [
    "A = mix_data.query('Категория ==\"Рекламный\"')\n",
    "B =  mix_data.query('Категория ==\"Не рекламный\"')\n",
    "A = A.groupby('new_drug_name').agg({'realization':'mean'}).rename(columns={'realization':'Рекламный'})\n",
    "B = B.groupby('new_drug_name').agg({'realization':'mean'}).rename(columns={'realization':'Не рекламный'})\n",
    "c = A.merge(B, how='inner', on='new_drug_name')\n",
    "c['Рос в %'] = (c.Рекламный * 100) / c['Не рекламный'] - 100\n",
    "c\n",
    "c.to_excel('./Итог.xlsx')"
   ]
  },
  {
   "cell_type": "code",
   "execution_count": 1219,
   "id": "dc92396e",
   "metadata": {},
   "outputs": [
    {
     "data": {
      "text/plain": [
       "Text(0, 0.5, 'Продажи шт.')"
      ]
     },
     "execution_count": 1219,
     "metadata": {},
     "output_type": "execute_result"
    },
    {
     "data": {
      "image/png": "[encoded data removed]",
      "text/plain": [
       "<Figure size 1200x800 with 1 Axes>"
      ]
     },
     "metadata": {},
     "output_type": "display_data"
    }
   ],
   "source": [
    "sns.set(rc={'figure.figsize':(12,8)})\n",
    "sns.barplot(data=mix_data, x=\"new_drug_name\", y=\"realization\", hue=\"Категория\")\n",
    "plt.title('Средние продажи за 5 месяцев по брендам \\n\\n')\n",
    "plt.xlabel('Бренд')\n",
    "plt.ylabel('Продажи шт.')\n",
    "\n",
    "\n"
   ]
  },
  {
   "cell_type": "code",
   "execution_count": null,
   "id": "c2b0c61a",
   "metadata": {},
   "outputs": [],
   "source": []
  },
  {
   "cell_type": "code",
   "execution_count": null,
   "id": "54b2776c",
   "metadata": {},
   "outputs": [],
   "source": []
  },
  {
   "cell_type": "code",
   "execution_count": null,
   "id": "415da13c",
   "metadata": {},
   "outputs": [],
   "source": []
  },
  {
   "cell_type": "code",
   "execution_count": null,
   "id": "61780ce7",
   "metadata": {},
   "outputs": [],
   "source": []
  },
  {
   "cell_type": "code",
   "execution_count": null,
   "id": "49937de0",
   "metadata": {},
   "outputs": [],
   "source": []
  },
  {
   "cell_type": "code",
   "execution_count": null,
   "id": "e9d1db29",
   "metadata": {},
   "outputs": [],
   "source": []
  },
  {
   "cell_type": "code",
   "execution_count": null,
   "id": "c0a87f5b",
   "metadata": {},
   "outputs": [],
   "source": []
  },
  {
   "cell_type": "code",
   "execution_count": null,
   "id": "64c4a15d",
   "metadata": {},
   "outputs": [],
   "source": []
  },
  {
   "cell_type": "code",
   "execution_count": 101,
   "id": "8658f703",
   "metadata": {},
   "outputs": [
    {
     "data": {
      "text/plain": [
       "241.109"
      ]
     },
     "execution_count": 101,
     "metadata": {},
     "output_type": "execute_result"
    }
   ],
   "source": [
    "list_of_median_AD = []\n",
    "for i in range(1000):\n",
    "    a = all_drugs_AD.groupby('new_name').agg({'realization':'sum'}).sample(43).realization.median()\n",
    "    list_of_median_AD.append(a)\n",
    "mean(list_of_median_AD)\n"
   ]
  },
  {
   "cell_type": "code",
   "execution_count": 102,
   "id": "3a1de660",
   "metadata": {},
   "outputs": [
    {
     "data": {
      "text/plain": [
       "236.0"
      ]
     },
     "execution_count": 102,
     "metadata": {},
     "output_type": "execute_result"
    }
   ],
   "source": [
    "list_of_median = []\n",
    "for i in range(1000):\n",
    "    a = all_drugs.groupby('new_name').agg({'realization':'sum'}).realization.median()\n",
    "    list_of_median.append(a)\n",
    "mean(list_of_median)"
   ]
  },
  {
   "cell_type": "code",
   "execution_count": 483,
   "id": "aefef360",
   "metadata": {},
   "outputs": [
    {
     "data": {
      "text/plain": [
       "0.43868372576318887"
      ]
     },
     "execution_count": 483,
     "metadata": {},
     "output_type": "execute_result"
    }
   ],
   "source": [
    "z = 236.0 / 537.973\n",
    "z"
   ]
  },
  {
   "cell_type": "code",
   "execution_count": 487,
   "id": "6bec1205",
   "metadata": {},
   "outputs": [
    {
     "data": {
      "text/plain": [
       "0.4858288395606447"
      ]
     },
     "execution_count": 487,
     "metadata": {},
     "output_type": "execute_result"
    }
   ],
   "source": [
    "x = 562.0 / 1156.786\n",
    "x"
   ]
  },
  {
   "cell_type": "code",
   "execution_count": 485,
   "id": "37ff72de",
   "metadata": {},
   "outputs": [
    {
     "data": {
      "text/plain": [
       "4.71"
      ]
     },
     "execution_count": 485,
     "metadata": {},
     "output_type": "execute_result"
    }
   ],
   "source": [
    "round((x - z)*100, 2)"
   ]
  },
  {
   "cell_type": "code",
   "execution_count": null,
   "id": "d441d449",
   "metadata": {},
   "outputs": [],
   "source": []
  },
  {
   "cell_type": "code",
   "execution_count": 208,
   "id": "c27b9150",
   "metadata": {},
   "outputs": [],
   "source": [
    "for i,j in zip(list_AD_data, list_no_AD_data ):\n",
    "    i.reset_index(inplace=True)\n",
    "    j.reset_index(inplace=True)"
   ]
  },
  {
   "cell_type": "code",
   "execution_count": 216,
   "id": "f75989bd",
   "metadata": {},
   "outputs": [],
   "source": [
    "all_data_AD = pd.concat(list_AD_data, ignore_index=True)\n",
    "all_dara_no_AD = pd.concat(list_no_AD_data, ignore_index=True)"
   ]
  },
  {
   "cell_type": "code",
   "execution_count": 230,
   "id": "b5ab18f8",
   "metadata": {
    "scrolled": false
   },
   "outputs": [],
   "source": [
    "ls =  all_data_AD.groupby('new_name').agg({'realization':'sum'}).sample(43)"
   ]
  },
  {
   "cell_type": "code",
   "execution_count": 228,
   "id": "abd28c61",
   "metadata": {},
   "outputs": [],
   "source": [
    "lm = all_dara_no_AD.groupby('new_name').agg({'realization':'sum'})"
   ]
  },
  {
   "cell_type": "code",
   "execution_count": 234,
   "id": "191b953f",
   "metadata": {},
   "outputs": [
    {
     "data": {
      "text/plain": [
       "629.0"
      ]
     },
     "execution_count": 234,
     "metadata": {},
     "output_type": "execute_result"
    }
   ],
   "source": [
    "ls.realization.median()"
   ]
  },
  {
   "cell_type": "code",
   "execution_count": 233,
   "id": "85605fb1",
   "metadata": {},
   "outputs": [
    {
     "data": {
      "text/plain": [
       "236.0"
      ]
     },
     "execution_count": 233,
     "metadata": {},
     "output_type": "execute_result"
    }
   ],
   "source": [
    "lm.realization.median()"
   ]
  },
  {
   "cell_type": "code",
   "execution_count": 204,
   "id": "a01b230e",
   "metadata": {},
   "outputs": [
    {
     "data": {
      "text/html": [
       "<div>\n",
       "<style scoped>\n",
       "    .dataframe tbody tr th:only-of-type {\n",
       "        vertical-align: middle;\n",
       "    }\n",
       "\n",
       "    .dataframe tbody tr th {\n",
       "        vertical-align: top;\n",
       "    }\n",
       "\n",
       "    .dataframe thead th {\n",
       "        text-align: right;\n",
       "    }\n",
       "</style>\n",
       "<table border=\"1\" class=\"dataframe\">\n",
       "  <thead>\n",
       "    <tr style=\"text-align: right;\">\n",
       "      <th></th>\n",
       "      <th>drug_name</th>\n",
       "      <th>new_name</th>\n",
       "      <th>realization</th>\n",
       "    </tr>\n",
       "  </thead>\n",
       "  <tbody>\n",
       "    <tr>\n",
       "      <th>0</th>\n",
       "      <td>АЦЦ 200 таблетки шипуч. 200мг туба №20</td>\n",
       "      <td>Аптека N186</td>\n",
       "      <td>1.0</td>\n",
       "    </tr>\n",
       "    <tr>\n",
       "      <th>1</th>\n",
       "      <td>АЦЦ 200 таблетки шипуч. 200мг туба №20</td>\n",
       "      <td>Аптека N190</td>\n",
       "      <td>10.0</td>\n",
       "    </tr>\n",
       "    <tr>\n",
       "      <th>2</th>\n",
       "      <td>АЦЦ 200 таблетки шипуч. 200мг туба №20</td>\n",
       "      <td>Аптека N195</td>\n",
       "      <td>20.0</td>\n",
       "    </tr>\n",
       "    <tr>\n",
       "      <th>3</th>\n",
       "      <td>АЦЦ 200 таблетки шипуч. 200мг туба №20</td>\n",
       "      <td>Аптека N212</td>\n",
       "      <td>6.0</td>\n",
       "    </tr>\n",
       "    <tr>\n",
       "      <th>4</th>\n",
       "      <td>АЦЦ 200 таблетки шипуч. 200мг туба №20</td>\n",
       "      <td>Аптека N225</td>\n",
       "      <td>12.0</td>\n",
       "    </tr>\n",
       "    <tr>\n",
       "      <th>...</th>\n",
       "      <td>...</td>\n",
       "      <td>...</td>\n",
       "      <td>...</td>\n",
       "    </tr>\n",
       "    <tr>\n",
       "      <th>1610</th>\n",
       "      <td>Экзодерил р-р для наруж. прим. 10мг/мл 20мл фл...</td>\n",
       "      <td>Аптека N61</td>\n",
       "      <td>1.0</td>\n",
       "    </tr>\n",
       "    <tr>\n",
       "      <th>1611</th>\n",
       "      <td>Экзодерил р-р для наруж. прим. 10мг/мл 20мл фл...</td>\n",
       "      <td>Аптека N69</td>\n",
       "      <td>2.0</td>\n",
       "    </tr>\n",
       "    <tr>\n",
       "      <th>1612</th>\n",
       "      <td>Экзодерил р-р для наруж. прим. 10мг/мл 20мл фл...</td>\n",
       "      <td>ЦРА N1</td>\n",
       "      <td>10.0</td>\n",
       "    </tr>\n",
       "    <tr>\n",
       "      <th>1613</th>\n",
       "      <td>Экзодерил р-р для наруж. прим. 10мг/мл 20мл фл...</td>\n",
       "      <td>ЦРА N20</td>\n",
       "      <td>3.0</td>\n",
       "    </tr>\n",
       "    <tr>\n",
       "      <th>1614</th>\n",
       "      <td>Экзодерил р-р для наруж. прим. 10мг/мл 20мл фл...</td>\n",
       "      <td>ЦРА N21</td>\n",
       "      <td>8.0</td>\n",
       "    </tr>\n",
       "  </tbody>\n",
       "</table>\n",
       "<p>1615 rows × 3 columns</p>\n",
       "</div>"
      ],
      "text/plain": [
       "                                              drug_name     new_name  \\\n",
       "0                АЦЦ 200 таблетки шипуч. 200мг туба №20  Аптека N186   \n",
       "1                АЦЦ 200 таблетки шипуч. 200мг туба №20  Аптека N190   \n",
       "2                АЦЦ 200 таблетки шипуч. 200мг туба №20  Аптека N195   \n",
       "3                АЦЦ 200 таблетки шипуч. 200мг туба №20  Аптека N212   \n",
       "4                АЦЦ 200 таблетки шипуч. 200мг туба №20  Аптека N225   \n",
       "...                                                 ...          ...   \n",
       "1610  Экзодерил р-р для наруж. прим. 10мг/мл 20мл фл...   Аптека N61   \n",
       "1611  Экзодерил р-р для наруж. прим. 10мг/мл 20мл фл...   Аптека N69   \n",
       "1612  Экзодерил р-р для наруж. прим. 10мг/мл 20мл фл...       ЦРА N1   \n",
       "1613  Экзодерил р-р для наруж. прим. 10мг/мл 20мл фл...      ЦРА N20   \n",
       "1614  Экзодерил р-р для наруж. прим. 10мг/мл 20мл фл...      ЦРА N21   \n",
       "\n",
       "      realization  \n",
       "0             1.0  \n",
       "1            10.0  \n",
       "2            20.0  \n",
       "3             6.0  \n",
       "4            12.0  \n",
       "...           ...  \n",
       "1610          1.0  \n",
       "1611          2.0  \n",
       "1612         10.0  \n",
       "1613          3.0  \n",
       "1614          8.0  \n",
       "\n",
       "[1615 rows x 3 columns]"
      ]
     },
     "execution_count": 204,
     "metadata": {},
     "output_type": "execute_result"
    }
   ],
   "source": [
    "all_dara_no_AD"
   ]
  },
  {
   "cell_type": "code",
   "execution_count": 211,
   "id": "1058903a",
   "metadata": {},
   "outputs": [],
   "source": [
    "all_data_AD_1 =all_data_AD.groupby(['drug_name']).agg({'realization':'sum'}).rename(columns={'realization':'realization_sum'})\n",
    "all_data_no_AD_1 =all_dara_no_AD.groupby(['drug_name']).agg({'realization':'sum'}).rename(columns={'realization':'realization_sum'})"
   ]
  },
  {
   "cell_type": "code",
   "execution_count": 212,
   "id": "6c2aad2f",
   "metadata": {},
   "outputs": [],
   "source": [
    "all_data_AD_1.reset_index(inplace=True)\n",
    "all_data_no_AD_1.reset_index(inplace=True)"
   ]
  },
  {
   "cell_type": "code",
   "execution_count": 213,
   "id": "8879a3ef",
   "metadata": {},
   "outputs": [
    {
     "data": {
      "text/plain": [
       "(15, 2)"
      ]
     },
     "execution_count": 213,
     "metadata": {},
     "output_type": "execute_result"
    }
   ],
   "source": [
    "all_data_AD_1.shape"
   ]
  },
  {
   "cell_type": "code",
   "execution_count": 214,
   "id": "827e5706",
   "metadata": {
    "scrolled": true
   },
   "outputs": [
    {
     "data": {
      "text/plain": [
       "(15, 2)"
      ]
     },
     "execution_count": 214,
     "metadata": {},
     "output_type": "execute_result"
    }
   ],
   "source": [
    "all_data_no_AD_1.shape"
   ]
  },
  {
   "cell_type": "code",
   "execution_count": 186,
   "id": "b66d4819",
   "metadata": {},
   "outputs": [],
   "source": [
    "boot_data_test = all_data_AD.sample(1615)"
   ]
  },
  {
   "cell_type": "code",
   "execution_count": 170,
   "id": "b489ac2b",
   "metadata": {},
   "outputs": [],
   "source": [
    "boot_data_conrol = all_dara_no_AD"
   ]
  },
  {
   "cell_type": "code",
   "execution_count": 194,
   "id": "e9205877",
   "metadata": {},
   "outputs": [
    {
     "data": {
      "text/plain": [
       "<AxesSubplot: xlabel='realization', ylabel='Count'>"
      ]
     },
     "execution_count": 194,
     "metadata": {},
     "output_type": "execute_result"
    },
    {
     "data": {
      "image/png": "[encoded data removed]",
      "text/plain": [
       "<Figure size 640x480 with 1 Axes>"
      ]
     },
     "metadata": {},
     "output_type": "display_data"
    }
   ],
   "source": [
    "sns.histplot(np.log(boot_data_conrol.realization))"
   ]
  },
  {
   "cell_type": "code",
   "execution_count": 196,
   "id": "c7ed50db",
   "metadata": {
    "scrolled": false
   },
   "outputs": [
    {
     "data": {
      "text/plain": [
       "<AxesSubplot: xlabel='realization', ylabel='Count'>"
      ]
     },
     "execution_count": 196,
     "metadata": {},
     "output_type": "execute_result"
    },
    {
     "data": {
      "image/png": "[encoded data removed]",
      "text/plain": [
       "<Figure size 640x480 with 1 Axes>"
      ]
     },
     "metadata": {},
     "output_type": "display_data"
    }
   ],
   "source": [
    "sns.histplot(np.log(boot_data_test.realization))"
   ]
  },
  {
   "cell_type": "code",
   "execution_count": 197,
   "id": "86bc9400",
   "metadata": {
    "scrolled": false
   },
   "outputs": [
    {
     "data": {
      "application/vnd.jupyter.widget-view+json": {
       "model_id": "b2efcd0175864e4cb103b267e20cdc34",
       "version_major": 2,
       "version_minor": 0
      },
      "text/plain": [
       "  0%|          | 0/2000 [00:00<?, ?it/s]"
      ]
     },
     "metadata": {},
     "output_type": "display_data"
    },
    {
     "data": {
      "image/png": "[encoded data removed]",
      "text/plain": [
       "<Figure size 640x480 with 1 Axes>"
      ]
     },
     "metadata": {},
     "output_type": "display_data"
    }
   ],
   "source": [
    "boots_data_mean = get_bootstrap(boot_data_conrol.realization, boot_data_test.realization, boot_it = 2000, statistic = np.mean)"
   ]
  },
  {
   "cell_type": "code",
   "execution_count": 198,
   "id": "5257cfb6",
   "metadata": {},
   "outputs": [
    {
     "data": {
      "text/plain": [
       "3.297515727316734e-08"
      ]
     },
     "execution_count": 198,
     "metadata": {},
     "output_type": "execute_result"
    }
   ],
   "source": [
    "boots_data_mean['p_value']"
   ]
  },
  {
   "cell_type": "code",
   "execution_count": 199,
   "id": "246222d7",
   "metadata": {},
   "outputs": [
    {
     "data": {
      "application/vnd.jupyter.widget-view+json": {
       "model_id": "adebb30eabc847e7beb90c26807968e1",
       "version_major": 2,
       "version_minor": 0
      },
      "text/plain": [
       "  0%|          | 0/2000 [00:00<?, ?it/s]"
      ]
     },
     "metadata": {},
     "output_type": "display_data"
    },
    {
     "data": {
      "image/png": "[encoded data removed]",
      "text/plain": [
       "<Figure size 640x480 with 1 Axes>"
      ]
     },
     "metadata": {},
     "output_type": "display_data"
    }
   ],
   "source": [
    "boots_data_median = get_bootstrap(boot_data_conrol.realization, boot_data_test.realization, boot_it = 2000, statistic = np.median)"
   ]
  },
  {
   "cell_type": "code",
   "execution_count": 200,
   "id": "a56bab3e",
   "metadata": {},
   "outputs": [
    {
     "data": {
      "text/plain": [
       "0.0004829590106020416"
      ]
     },
     "execution_count": 200,
     "metadata": {},
     "output_type": "execute_result"
    }
   ],
   "source": [
    "boots_data_median['p_value']"
   ]
  },
  {
   "cell_type": "code",
   "execution_count": 201,
   "id": "c64a9d45",
   "metadata": {},
   "outputs": [
    {
     "name": "stdout",
     "output_type": "stream",
     "text": [
      "Statistics=1062717.000, p=0.000\n"
     ]
    }
   ],
   "source": [
    "stat, p = mannwhitneyu(boot_data_conrol.realization, boot_data_test.realization)\n",
    "print('Statistics=%.3f, p=%.3f' % (stat, p))"
   ]
  },
  {
   "cell_type": "code",
   "execution_count": 202,
   "id": "7d1294ec",
   "metadata": {},
   "outputs": [
    {
     "data": {
      "text/plain": [
       "Ttest_indResult(statistic=-9.076310491659118, pvalue=1.906943812423959e-19)"
      ]
     },
     "execution_count": 202,
     "metadata": {},
     "output_type": "execute_result"
    }
   ],
   "source": [
    "from scipy import stats\n",
    "\n",
    "stats.ttest_ind(np.log(boot_data_conrol.realization), np.log(boot_data_test.realization))"
   ]
  },
  {
   "cell_type": "code",
   "execution_count": null,
   "id": "46cea4f6",
   "metadata": {},
   "outputs": [],
   "source": []
  },
  {
   "cell_type": "code",
   "execution_count": null,
   "id": "a320b243",
   "metadata": {},
   "outputs": [],
   "source": []
  },
  {
   "cell_type": "code",
   "execution_count": null,
   "id": "ecc5faeb",
   "metadata": {},
   "outputs": [],
   "source": []
  },
  {
   "cell_type": "code",
   "execution_count": null,
   "id": "770ccab5",
   "metadata": {},
   "outputs": [],
   "source": []
  },
  {
   "cell_type": "code",
   "execution_count": null,
   "id": "c0b0598b",
   "metadata": {},
   "outputs": [],
   "source": []
  },
  {
   "cell_type": "code",
   "execution_count": null,
   "id": "03ced357",
   "metadata": {},
   "outputs": [],
   "source": []
  },
  {
   "cell_type": "code",
   "execution_count": null,
   "id": "6b54f832",
   "metadata": {},
   "outputs": [],
   "source": []
  },
  {
   "cell_type": "code",
   "execution_count": null,
   "id": "81e08691",
   "metadata": {},
   "outputs": [],
   "source": []
  },
  {
   "cell_type": "code",
   "execution_count": null,
   "id": "1c1720f2",
   "metadata": {},
   "outputs": [],
   "source": []
  },
  {
   "cell_type": "code",
   "execution_count": null,
   "id": "588564a6",
   "metadata": {},
   "outputs": [],
   "source": []
  },
  {
   "cell_type": "code",
   "execution_count": 560,
   "id": "53e5211d",
   "metadata": {},
   "outputs": [],
   "source": [
    "df  = list_no_AD_data[4].reset_index()"
   ]
  },
  {
   "cell_type": "code",
   "execution_count": 561,
   "id": "94bcce90",
   "metadata": {},
   "outputs": [
    {
     "data": {
      "text/plain": [
       "0"
      ]
     },
     "execution_count": 561,
     "metadata": {},
     "output_type": "execute_result"
    }
   ],
   "source": [
    "len(df.ap_name.unique())"
   ]
  },
  {
   "cell_type": "code",
   "execution_count": 607,
   "id": "7f29e72d",
   "metadata": {},
   "outputs": [],
   "source": [
    "a = list_of_data[1]"
   ]
  },
  {
   "cell_type": "code",
   "execution_count": 689,
   "id": "5bea1b2b",
   "metadata": {},
   "outputs": [],
   "source": [
    "# list_of_data = [df_september, df_january, df_november, df_october, df_december]\n",
    "df = list_of_data[4]\n",
    "a = df.new_name.unique()"
   ]
  },
  {
   "cell_type": "code",
   "execution_count": 690,
   "id": "57308a04",
   "metadata": {},
   "outputs": [
    {
     "data": {
      "text/plain": [
       "188"
      ]
     },
     "execution_count": 690,
     "metadata": {},
     "output_type": "execute_result"
    }
   ],
   "source": [
    "len(a)"
   ]
  },
  {
   "cell_type": "code",
   "execution_count": 691,
   "id": "3232107c",
   "metadata": {},
   "outputs": [
    {
     "data": {
      "text/plain": [
       "45"
      ]
     },
     "execution_count": 691,
     "metadata": {},
     "output_type": "execute_result"
    }
   ],
   "source": [
    "len(lst_of_aptecs)"
   ]
  },
  {
   "cell_type": "code",
   "execution_count": 692,
   "id": "ee9586bb",
   "metadata": {},
   "outputs": [
    {
     "name": "stdout",
     "output_type": "stream",
     "text": [
      "Аптека N264\n",
      "Аптека N274\n",
      "Аптека N307\n",
      "Аптека N264\n",
      "Аптека N274\n",
      "Аптека N307\n",
      "Аптека N264\n",
      "Аптека N274\n",
      "Аптека N307\n",
      "Аптека N264\n",
      "Аптека N274\n",
      "Аптека N307\n",
      "Аптека N264\n",
      "Аптека N274\n",
      "Аптека N307\n"
     ]
    }
   ],
   "source": [
    "x = 0 \n",
    "for j in range(len(list_of_data)):\n",
    "    a = list_of_data[j].new_name.unique()\n",
    "    for i in lst_of_aptecs:\n",
    "        if i not in list_of_data[x].new_name.unique():\n",
    "            print(i)\n",
    "    "
   ]
  },
  {
   "cell_type": "code",
   "execution_count": null,
   "id": "884cdf42",
   "metadata": {},
   "outputs": [],
   "source": [
    "#Cписок не найденых аптек\n",
    "# Сентябрь: \n",
    "#      Аптека N40\n",
    "#      Аптека N143\n",
    "#      Аптека N161\n",
    "#      ЦРА N80\n",
    "#      Аптека N245\n",
    "# Январь: \n",
    "#     Аптека N143\n",
    "#     Аптека N161\n",
    "#     ЦРА N80\n",
    "#     Аптека N245\n",
    "# Ноябрь:\n",
    "#     Аптека N224\n",
    "#     Аптека N143\n",
    "#     Аптека N161\n",
    "#     ЦРА N80\n",
    "#     Аптека N245\n",
    "#     Аптека N248\n",
    "# Октябрь:\n",
    "#     Аптека N143\n",
    "#     Аптека N161\n",
    "#     ЦРА N80\n",
    "#     Аптека N245\n",
    "# Декабрь:\n",
    "#     Аптека N143\n",
    "#     Аптека N161\n",
    "#     ЦРА N80\n",
    "#     Аптека N245\n",
    "    \n"
   ]
  },
  {
   "cell_type": "code",
   "execution_count": null,
   "id": "a4f0b3f7",
   "metadata": {},
   "outputs": [],
   "source": []
  },
  {
   "cell_type": "code",
   "execution_count": null,
   "id": "3651beae",
   "metadata": {},
   "outputs": [],
   "source": []
  },
  {
   "cell_type": "code",
   "execution_count": null,
   "id": "b052ce6e",
   "metadata": {},
   "outputs": [],
   "source": []
  },
  {
   "cell_type": "code",
   "execution_count": 234,
   "id": "68fff517",
   "metadata": {},
   "outputs": [],
   "source": [
    "df_2.dropna(inplace=True)"
   ]
  },
  {
   "cell_type": "code",
   "execution_count": 235,
   "id": "d1fa98b4",
   "metadata": {},
   "outputs": [
    {
     "data": {
      "text/html": [
       "<div>\n",
       "<style scoped>\n",
       "    .dataframe tbody tr th:only-of-type {\n",
       "        vertical-align: middle;\n",
       "    }\n",
       "\n",
       "    .dataframe tbody tr th {\n",
       "        vertical-align: top;\n",
       "    }\n",
       "\n",
       "    .dataframe thead th {\n",
       "        text-align: right;\n",
       "    }\n",
       "</style>\n",
       "<table border=\"1\" class=\"dataframe\">\n",
       "  <thead>\n",
       "    <tr style=\"text-align: right;\">\n",
       "      <th></th>\n",
       "      <th>drug_name</th>\n",
       "      <th>ap_name</th>\n",
       "      <th>expiration_date</th>\n",
       "      <th>realization</th>\n",
       "      <th>new_name</th>\n",
       "    </tr>\n",
       "  </thead>\n",
       "  <tbody>\n",
       "    <tr>\n",
       "      <th>0</th>\n",
       "      <td>АЦЦ 200 таблетки шипуч. 200мг туба №20</td>\n",
       "      <td>ЦРА №19 Березинского района</td>\n",
       "      <td>31.12.2023</td>\n",
       "      <td>20</td>\n",
       "      <td>ЦРА N19</td>\n",
       "    </tr>\n",
       "    <tr>\n",
       "      <th>1</th>\n",
       "      <td>АЦЦ 200 таблетки шипуч. 200мг туба №20</td>\n",
       "      <td>Аптека №272 от ЦРА №16 Борисовского ...</td>\n",
       "      <td>31.12.2023</td>\n",
       "      <td>5</td>\n",
       "      <td>Аптека N272</td>\n",
       "    </tr>\n",
       "    <tr>\n",
       "      <th>2</th>\n",
       "      <td>АЦЦ 200 таблетки шипуч. 200мг туба №20</td>\n",
       "      <td>Аптека №321 от ЦРА №16 Борисовского ...</td>\n",
       "      <td>31.12.2023</td>\n",
       "      <td>8</td>\n",
       "      <td>Аптека N321</td>\n",
       "    </tr>\n",
       "    <tr>\n",
       "      <th>3</th>\n",
       "      <td>АЦЦ 200 таблетки шипуч. 200мг туба №20</td>\n",
       "      <td>Аптека №137 от ЦРА №16 Борисовского ...</td>\n",
       "      <td>31.12.2023</td>\n",
       "      <td>10</td>\n",
       "      <td>Аптека N137</td>\n",
       "    </tr>\n",
       "    <tr>\n",
       "      <th>4</th>\n",
       "      <td>АЦЦ 200 таблетки шипуч. 200мг туба №20</td>\n",
       "      <td>Аптека №167 от ЦРА №16 Борисовского ...</td>\n",
       "      <td>31.12.2023</td>\n",
       "      <td>15</td>\n",
       "      <td>Аптека N167</td>\n",
       "    </tr>\n",
       "    <tr>\n",
       "      <th>...</th>\n",
       "      <td>...</td>\n",
       "      <td>...</td>\n",
       "      <td>...</td>\n",
       "      <td>...</td>\n",
       "      <td>...</td>\n",
       "    </tr>\n",
       "    <tr>\n",
       "      <th>1637</th>\n",
       "      <td>Экзодерил р-р для наруж. прим. 10мг/мл 20мл фл...</td>\n",
       "      <td>Аптека №254 от ЦРА №21 Узденского р-на</td>\n",
       "      <td>31.03.2026</td>\n",
       "      <td>1</td>\n",
       "      <td>Аптека N254</td>\n",
       "    </tr>\n",
       "    <tr>\n",
       "      <th>1638</th>\n",
       "      <td>Экзодерил р-р для наруж. прим. 10мг/мл 20мл фл...</td>\n",
       "      <td>Аптека №330 от ЦРА №21 Узденского р-на</td>\n",
       "      <td>31.03.2026</td>\n",
       "      <td>2</td>\n",
       "      <td>Аптека N330</td>\n",
       "    </tr>\n",
       "    <tr>\n",
       "      <th>1639</th>\n",
       "      <td>Экзодерил р-р для наруж. прим. 10мг/мл 20мл фл...</td>\n",
       "      <td>ЦРА №21 Узденского района</td>\n",
       "      <td>01.12.2024</td>\n",
       "      <td>3</td>\n",
       "      <td>ЦРА N21</td>\n",
       "    </tr>\n",
       "    <tr>\n",
       "      <th>1640</th>\n",
       "      <td>Экзодерил р-р для наруж. прим. 10мг/мл 20мл фл...</td>\n",
       "      <td>Аптека №18 от ЦРА №20 Червенского ра...</td>\n",
       "      <td>01.12.2024</td>\n",
       "      <td>2</td>\n",
       "      <td>Аптека N18</td>\n",
       "    </tr>\n",
       "    <tr>\n",
       "      <th>1641</th>\n",
       "      <td>Экзодерил р-р для наруж. прим. 10мг/мл 20мл фл...</td>\n",
       "      <td>Аптека №287 от ЦРА №20 Червенского р...</td>\n",
       "      <td>01.12.2024</td>\n",
       "      <td>3</td>\n",
       "      <td>Аптека N287</td>\n",
       "    </tr>\n",
       "  </tbody>\n",
       "</table>\n",
       "<p>1642 rows × 5 columns</p>\n",
       "</div>"
      ],
      "text/plain": [
       "                                              drug_name  \\\n",
       "0                АЦЦ 200 таблетки шипуч. 200мг туба №20   \n",
       "1                АЦЦ 200 таблетки шипуч. 200мг туба №20   \n",
       "2                АЦЦ 200 таблетки шипуч. 200мг туба №20   \n",
       "3                АЦЦ 200 таблетки шипуч. 200мг туба №20   \n",
       "4                АЦЦ 200 таблетки шипуч. 200мг туба №20   \n",
       "...                                                 ...   \n",
       "1637  Экзодерил р-р для наруж. прим. 10мг/мл 20мл фл...   \n",
       "1638  Экзодерил р-р для наруж. прим. 10мг/мл 20мл фл...   \n",
       "1639  Экзодерил р-р для наруж. прим. 10мг/мл 20мл фл...   \n",
       "1640  Экзодерил р-р для наруж. прим. 10мг/мл 20мл фл...   \n",
       "1641  Экзодерил р-р для наруж. прим. 10мг/мл 20мл фл...   \n",
       "\n",
       "                                                ap_name expiration_date  \\\n",
       "0                           ЦРА №19 Березинского района      31.12.2023   \n",
       "1               Аптека №272 от ЦРА №16 Борисовского ...      31.12.2023   \n",
       "2               Аптека №321 от ЦРА №16 Борисовского ...      31.12.2023   \n",
       "3               Аптека №137 от ЦРА №16 Борисовского ...      31.12.2023   \n",
       "4               Аптека №167 от ЦРА №16 Борисовского ...      31.12.2023   \n",
       "...                                                 ...             ...   \n",
       "1637             Аптека №254 от ЦРА №21 Узденского р-на      31.03.2026   \n",
       "1638             Аптека №330 от ЦРА №21 Узденского р-на      31.03.2026   \n",
       "1639                          ЦРА №21 Узденского района      01.12.2024   \n",
       "1640            Аптека №18 от ЦРА №20 Червенского ра...      01.12.2024   \n",
       "1641            Аптека №287 от ЦРА №20 Червенского р...      01.12.2024   \n",
       "\n",
       "      realization     new_name  \n",
       "0              20      ЦРА N19  \n",
       "1               5  Аптека N272  \n",
       "2               8  Аптека N321  \n",
       "3              10  Аптека N137  \n",
       "4              15  Аптека N167  \n",
       "...           ...          ...  \n",
       "1637            1  Аптека N254  \n",
       "1638            2  Аптека N330  \n",
       "1639            3      ЦРА N21  \n",
       "1640            2   Аптека N18  \n",
       "1641            3  Аптека N287  \n",
       "\n",
       "[1642 rows x 5 columns]"
      ]
     },
     "execution_count": 235,
     "metadata": {},
     "output_type": "execute_result"
    }
   ],
   "source": [
    "df_2"
   ]
  },
  {
   "cell_type": "code",
   "execution_count": 187,
   "id": "2253f92a",
   "metadata": {},
   "outputs": [],
   "source": [
    "df_2 = df_2.rename(columns={'Unnamed: 2':'expiration_date',\n",
    "                     'Unnamed: 1':'ap_name',\n",
    "                     '229':'realization',\n",
    "                     'Амброгексал р-р для приема внутрь и ингаляций 7,5мг/мл 50мл флакон №1':'drug_name'}\n",
    "                     )"
   ]
  },
  {
   "cell_type": "code",
   "execution_count": 201,
   "id": "09ab91af",
   "metadata": {},
   "outputs": [],
   "source": [
    "df_2.dropna(inplace=True)\n",
    "# df_2.expiration_date = pd.to_datetime(df_2.expiration_date)\n",
    "df_2.realization = df_2.realization.astype('int')\n",
    "df_2['new_name'] = df_2.ap_name.str.strip().str.split(' ').str[0]+ ' ' +df_2.ap_name.str.strip().str.split(' ').str[1]\n",
    "df_2.new_name = df_2.new_name.str.replace('№', 'N')\n",
    "df_2.reset_index(drop=True, inplace=True)"
   ]
  },
  {
   "cell_type": "code",
   "execution_count": 202,
   "id": "921e9e9c",
   "metadata": {},
   "outputs": [
    {
     "data": {
      "text/html": [
       "<div>\n",
       "<style scoped>\n",
       "    .dataframe tbody tr th:only-of-type {\n",
       "        vertical-align: middle;\n",
       "    }\n",
       "\n",
       "    .dataframe tbody tr th {\n",
       "        vertical-align: top;\n",
       "    }\n",
       "\n",
       "    .dataframe thead th {\n",
       "        text-align: right;\n",
       "    }\n",
       "</style>\n",
       "<table border=\"1\" class=\"dataframe\">\n",
       "  <thead>\n",
       "    <tr style=\"text-align: right;\">\n",
       "      <th></th>\n",
       "      <th>drug_name</th>\n",
       "      <th>ap_name</th>\n",
       "      <th>expiration_date</th>\n",
       "      <th>realization</th>\n",
       "      <th>new_name</th>\n",
       "    </tr>\n",
       "  </thead>\n",
       "  <tbody>\n",
       "    <tr>\n",
       "      <th>0</th>\n",
       "      <td>АЦЦ 200 таблетки шипуч. 200мг туба №20</td>\n",
       "      <td>ЦРА №19 Березинского района</td>\n",
       "      <td>31.12.2023</td>\n",
       "      <td>20</td>\n",
       "      <td>ЦРА N19</td>\n",
       "    </tr>\n",
       "    <tr>\n",
       "      <th>1</th>\n",
       "      <td>АЦЦ 200 таблетки шипуч. 200мг туба №20</td>\n",
       "      <td>Аптека №272 от ЦРА №16 Борисовского ...</td>\n",
       "      <td>31.12.2023</td>\n",
       "      <td>5</td>\n",
       "      <td>Аптека N272</td>\n",
       "    </tr>\n",
       "    <tr>\n",
       "      <th>2</th>\n",
       "      <td>АЦЦ 200 таблетки шипуч. 200мг туба №20</td>\n",
       "      <td>Аптека №321 от ЦРА №16 Борисовского ...</td>\n",
       "      <td>31.12.2023</td>\n",
       "      <td>8</td>\n",
       "      <td>Аптека N321</td>\n",
       "    </tr>\n",
       "    <tr>\n",
       "      <th>3</th>\n",
       "      <td>АЦЦ 200 таблетки шипуч. 200мг туба №20</td>\n",
       "      <td>Аптека №137 от ЦРА №16 Борисовского ...</td>\n",
       "      <td>31.12.2023</td>\n",
       "      <td>10</td>\n",
       "      <td>Аптека N137</td>\n",
       "    </tr>\n",
       "    <tr>\n",
       "      <th>4</th>\n",
       "      <td>АЦЦ 200 таблетки шипуч. 200мг туба №20</td>\n",
       "      <td>Аптека №167 от ЦРА №16 Борисовского ...</td>\n",
       "      <td>31.12.2023</td>\n",
       "      <td>15</td>\n",
       "      <td>Аптека N167</td>\n",
       "    </tr>\n",
       "    <tr>\n",
       "      <th>...</th>\n",
       "      <td>...</td>\n",
       "      <td>...</td>\n",
       "      <td>...</td>\n",
       "      <td>...</td>\n",
       "      <td>...</td>\n",
       "    </tr>\n",
       "    <tr>\n",
       "      <th>1637</th>\n",
       "      <td>Экзодерил р-р для наруж. прим. 10мг/мл 20мл фл...</td>\n",
       "      <td>Аптека №254 от ЦРА №21 Узденского р-на</td>\n",
       "      <td>31.03.2026</td>\n",
       "      <td>1</td>\n",
       "      <td>Аптека N254</td>\n",
       "    </tr>\n",
       "    <tr>\n",
       "      <th>1638</th>\n",
       "      <td>Экзодерил р-р для наруж. прим. 10мг/мл 20мл фл...</td>\n",
       "      <td>Аптека №330 от ЦРА №21 Узденского р-на</td>\n",
       "      <td>31.03.2026</td>\n",
       "      <td>2</td>\n",
       "      <td>Аптека N330</td>\n",
       "    </tr>\n",
       "    <tr>\n",
       "      <th>1639</th>\n",
       "      <td>Экзодерил р-р для наруж. прим. 10мг/мл 20мл фл...</td>\n",
       "      <td>ЦРА №21 Узденского района</td>\n",
       "      <td>01.12.2024</td>\n",
       "      <td>3</td>\n",
       "      <td>ЦРА N21</td>\n",
       "    </tr>\n",
       "    <tr>\n",
       "      <th>1640</th>\n",
       "      <td>Экзодерил р-р для наруж. прим. 10мг/мл 20мл фл...</td>\n",
       "      <td>Аптека №18 от ЦРА №20 Червенского ра...</td>\n",
       "      <td>01.12.2024</td>\n",
       "      <td>2</td>\n",
       "      <td>Аптека N18</td>\n",
       "    </tr>\n",
       "    <tr>\n",
       "      <th>1641</th>\n",
       "      <td>Экзодерил р-р для наруж. прим. 10мг/мл 20мл фл...</td>\n",
       "      <td>Аптека №287 от ЦРА №20 Червенского р...</td>\n",
       "      <td>01.12.2024</td>\n",
       "      <td>3</td>\n",
       "      <td>Аптека N287</td>\n",
       "    </tr>\n",
       "  </tbody>\n",
       "</table>\n",
       "<p>1642 rows × 5 columns</p>\n",
       "</div>"
      ],
      "text/plain": [
       "                                              drug_name  \\\n",
       "0                АЦЦ 200 таблетки шипуч. 200мг туба №20   \n",
       "1                АЦЦ 200 таблетки шипуч. 200мг туба №20   \n",
       "2                АЦЦ 200 таблетки шипуч. 200мг туба №20   \n",
       "3                АЦЦ 200 таблетки шипуч. 200мг туба №20   \n",
       "4                АЦЦ 200 таблетки шипуч. 200мг туба №20   \n",
       "...                                                 ...   \n",
       "1637  Экзодерил р-р для наруж. прим. 10мг/мл 20мл фл...   \n",
       "1638  Экзодерил р-р для наруж. прим. 10мг/мл 20мл фл...   \n",
       "1639  Экзодерил р-р для наруж. прим. 10мг/мл 20мл фл...   \n",
       "1640  Экзодерил р-р для наруж. прим. 10мг/мл 20мл фл...   \n",
       "1641  Экзодерил р-р для наруж. прим. 10мг/мл 20мл фл...   \n",
       "\n",
       "                                                ap_name expiration_date  \\\n",
       "0                           ЦРА №19 Березинского района      31.12.2023   \n",
       "1               Аптека №272 от ЦРА №16 Борисовского ...      31.12.2023   \n",
       "2               Аптека №321 от ЦРА №16 Борисовского ...      31.12.2023   \n",
       "3               Аптека №137 от ЦРА №16 Борисовского ...      31.12.2023   \n",
       "4               Аптека №167 от ЦРА №16 Борисовского ...      31.12.2023   \n",
       "...                                                 ...             ...   \n",
       "1637             Аптека №254 от ЦРА №21 Узденского р-на      31.03.2026   \n",
       "1638             Аптека №330 от ЦРА №21 Узденского р-на      31.03.2026   \n",
       "1639                          ЦРА №21 Узденского района      01.12.2024   \n",
       "1640            Аптека №18 от ЦРА №20 Червенского ра...      01.12.2024   \n",
       "1641            Аптека №287 от ЦРА №20 Червенского р...      01.12.2024   \n",
       "\n",
       "      realization     new_name  \n",
       "0              20      ЦРА N19  \n",
       "1               5  Аптека N272  \n",
       "2               8  Аптека N321  \n",
       "3              10  Аптека N137  \n",
       "4              15  Аптека N167  \n",
       "...           ...          ...  \n",
       "1637            1  Аптека N254  \n",
       "1638            2  Аптека N330  \n",
       "1639            3      ЦРА N21  \n",
       "1640            2   Аптека N18  \n",
       "1641            3  Аптека N287  \n",
       "\n",
       "[1642 rows x 5 columns]"
      ]
     },
     "execution_count": 202,
     "metadata": {},
     "output_type": "execute_result"
    }
   ],
   "source": [
    "df_2"
   ]
  },
  {
   "cell_type": "code",
   "execution_count": 155,
   "id": "7677a3e8",
   "metadata": {
    "scrolled": true
   },
   "outputs": [
    {
     "name": "stderr",
     "output_type": "stream",
     "text": [
      "/var/folders/98/cq77c4j90csgl9c58kjw89dm0000gn/T/ipykernel_8005/2333318128.py:1: SettingWithCopyWarning: \n",
      "A value is trying to be set on a copy of a slice from a DataFrame.\n",
      "Try using .loc[row_indexer,col_indexer] = value instead\n",
      "\n",
      "See the caveats in the documentation: https://pandas.pydata.org/pandas-docs/stable/user_guide/indexing.html#returning-a-view-versus-a-copy\n",
      "  x['new_drug_name'] = x.drug_name.str.split(' ').str[0]\n"
     ]
    }
   ],
   "source": [
    "x['new_drug_name'] = x.drug_name.str.split(' ').str[0]\n",
    "s = ['АЦЦ','Бронхо-мунал','Экзодерил','Линекс']\n",
    "x = x.query('new_drug_name in @s')"
   ]
  },
  {
   "cell_type": "code",
   "execution_count": null,
   "id": "52403050",
   "metadata": {},
   "outputs": [],
   "source": [
    "x.drop('new_drug_name', axis=1,inplace=True)"
   ]
  },
  {
   "cell_type": "code",
   "execution_count": 129,
   "id": "5c81c26a",
   "metadata": {},
   "outputs": [],
   "source": [
    "# x = r_df[['drug_name','ap_name','expiration_date','realization']].groupby(['drug_name','ap_name']).agg({'realization':\n",
    "#                                                                                                      'sum'})"
   ]
  },
  {
   "cell_type": "code",
   "execution_count": 104,
   "id": "6d57a8b3",
   "metadata": {},
   "outputs": [],
   "source": [
    "x.to_excel('./test_1.xlsx')"
   ]
  },
  {
   "cell_type": "code",
   "execution_count": null,
   "id": "0752f12d",
   "metadata": {},
   "outputs": [],
   "source": []
  },
  {
   "cell_type": "code",
   "execution_count": null,
   "id": "1bd1b214",
   "metadata": {},
   "outputs": [],
   "source": []
  },
  {
   "cell_type": "code",
   "execution_count": null,
   "id": "8247ac7f",
   "metadata": {},
   "outputs": [],
   "source": []
  },
  {
   "cell_type": "code",
   "execution_count": null,
   "id": "5f9c7588",
   "metadata": {},
   "outputs": [],
   "source": []
  },
  {
   "cell_type": "code",
   "execution_count": null,
   "id": "02cacbc9",
   "metadata": {},
   "outputs": [],
   "source": []
  },
  {
   "cell_type": "code",
   "execution_count": null,
   "id": "98916980",
   "metadata": {},
   "outputs": [],
   "source": []
  },
  {
   "cell_type": "code",
   "execution_count": null,
   "id": "aba99e7c",
   "metadata": {},
   "outputs": [],
   "source": []
  },
  {
   "cell_type": "code",
   "execution_count": null,
   "id": "80c27a81",
   "metadata": {},
   "outputs": [],
   "source": []
  },
  {
   "cell_type": "code",
   "execution_count": 132,
   "id": "9c34ccd5",
   "metadata": {},
   "outputs": [
    {
     "data": {
      "text/plain": [
       "(2606, 6)"
      ]
     },
     "execution_count": 132,
     "metadata": {},
     "output_type": "execute_result"
    }
   ],
   "source": [
    "r_df.shape"
   ]
  },
  {
   "cell_type": "code",
   "execution_count": 129,
   "id": "428f8818",
   "metadata": {},
   "outputs": [],
   "source": [
    "x = r_df[['drug_name','ap_name','expiration_date','realization']].groupby(['drug_name','ap_name']).agg({'realization':\n",
    "                                                                                                     'sum'})"
   ]
  },
  {
   "cell_type": "code",
   "execution_count": 155,
   "id": "c8e1d628",
   "metadata": {
    "scrolled": true
   },
   "outputs": [
    {
     "name": "stderr",
     "output_type": "stream",
     "text": [
      "/var/folders/98/cq77c4j90csgl9c58kjw89dm0000gn/T/ipykernel_8005/2333318128.py:1: SettingWithCopyWarning: \n",
      "A value is trying to be set on a copy of a slice from a DataFrame.\n",
      "Try using .loc[row_indexer,col_indexer] = value instead\n",
      "\n",
      "See the caveats in the documentation: https://pandas.pydata.org/pandas-docs/stable/user_guide/indexing.html#returning-a-view-versus-a-copy\n",
      "  x['new_drug_name'] = x.drug_name.str.split(' ').str[0]\n"
     ]
    }
   ],
   "source": [
    "x['new_drug_name'] = x.drug_name.str.split(' ').str[0]\n",
    "s = ['АЦЦ','Бронхо-мунал','Экзодерил','Линекс']\n",
    "x = x.query('new_drug_name in @s')"
   ]
  },
  {
   "cell_type": "code",
   "execution_count": 159,
   "id": "14fd4c66",
   "metadata": {},
   "outputs": [
    {
     "name": "stderr",
     "output_type": "stream",
     "text": [
      "/var/folders/98/cq77c4j90csgl9c58kjw89dm0000gn/T/ipykernel_8005/3717938950.py:1: SettingWithCopyWarning: \n",
      "A value is trying to be set on a copy of a slice from a DataFrame\n",
      "\n",
      "See the caveats in the documentation: https://pandas.pydata.org/pandas-docs/stable/user_guide/indexing.html#returning-a-view-versus-a-copy\n",
      "  x.drop('new_drug_name', axis=1,inplace=True)\n"
     ]
    }
   ],
   "source": [
    "x.drop('new_drug_name', axis=1,inplace=True)"
   ]
  },
  {
   "cell_type": "code",
   "execution_count": 160,
   "id": "024ccfe3",
   "metadata": {
    "collapsed": true
   },
   "outputs": [
    {
     "ename": "AttributeError",
     "evalue": "'DataFrame' object has no attribute 'new_drug_name'",
     "output_type": "error",
     "traceback": [
      "\u001b[0;31m---------------------------------------------------------------------------\u001b[0m",
      "\u001b[0;31mAttributeError\u001b[0m                            Traceback (most recent call last)",
      "Cell \u001b[0;32mIn[160], line 1\u001b[0m\n\u001b[0;32m----> 1\u001b[0m \u001b[43mx\u001b[49m\u001b[38;5;241;43m.\u001b[39;49m\u001b[43mnew_drug_name\u001b[49m\u001b[38;5;241m.\u001b[39munique()\n",
      "File \u001b[0;32m~/opt/anaconda3/lib/python3.10/site-packages/pandas/core/generic.py:5902\u001b[0m, in \u001b[0;36mNDFrame.__getattr__\u001b[0;34m(self, name)\u001b[0m\n\u001b[1;32m   5895\u001b[0m \u001b[38;5;28;01mif\u001b[39;00m (\n\u001b[1;32m   5896\u001b[0m     name \u001b[38;5;129;01mnot\u001b[39;00m \u001b[38;5;129;01min\u001b[39;00m \u001b[38;5;28mself\u001b[39m\u001b[38;5;241m.\u001b[39m_internal_names_set\n\u001b[1;32m   5897\u001b[0m     \u001b[38;5;129;01mand\u001b[39;00m name \u001b[38;5;129;01mnot\u001b[39;00m \u001b[38;5;129;01min\u001b[39;00m \u001b[38;5;28mself\u001b[39m\u001b[38;5;241m.\u001b[39m_metadata\n\u001b[1;32m   5898\u001b[0m     \u001b[38;5;129;01mand\u001b[39;00m name \u001b[38;5;129;01mnot\u001b[39;00m \u001b[38;5;129;01min\u001b[39;00m \u001b[38;5;28mself\u001b[39m\u001b[38;5;241m.\u001b[39m_accessors\n\u001b[1;32m   5899\u001b[0m     \u001b[38;5;129;01mand\u001b[39;00m \u001b[38;5;28mself\u001b[39m\u001b[38;5;241m.\u001b[39m_info_axis\u001b[38;5;241m.\u001b[39m_can_hold_identifiers_and_holds_name(name)\n\u001b[1;32m   5900\u001b[0m ):\n\u001b[1;32m   5901\u001b[0m     \u001b[38;5;28;01mreturn\u001b[39;00m \u001b[38;5;28mself\u001b[39m[name]\n\u001b[0;32m-> 5902\u001b[0m \u001b[38;5;28;01mreturn\u001b[39;00m \u001b[38;5;28;43mobject\u001b[39;49m\u001b[38;5;241;43m.\u001b[39;49m\u001b[38;5;21;43m__getattribute__\u001b[39;49m\u001b[43m(\u001b[49m\u001b[38;5;28;43mself\u001b[39;49m\u001b[43m,\u001b[49m\u001b[43m \u001b[49m\u001b[43mname\u001b[49m\u001b[43m)\u001b[49m\n",
      "\u001b[0;31mAttributeError\u001b[0m: 'DataFrame' object has no attribute 'new_drug_name'"
     ]
    }
   ],
   "source": [
    "x.new_drug_name.unique()"
   ]
  },
  {
   "cell_type": "code",
   "execution_count": 161,
   "id": "d59d2cda",
   "metadata": {},
   "outputs": [],
   "source": [
    "x.to_excel('./test_1.xlsx')"
   ]
  },
  {
   "cell_type": "code",
   "execution_count": null,
   "id": "34ab199e",
   "metadata": {},
   "outputs": [],
   "source": []
  },
  {
   "cell_type": "code",
   "execution_count": 28,
   "id": "a8572b10",
   "metadata": {},
   "outputs": [],
   "source": [
    "a = df['NAME_TABLETKA']"
   ]
  },
  {
   "cell_type": "code",
   "execution_count": 61,
   "id": "0c1a6100",
   "metadata": {},
   "outputs": [],
   "source": [
    "df_2 = pd.read_csv('./MF.csv', sep = ';')"
   ]
  },
  {
   "cell_type": "code",
   "execution_count": 65,
   "id": "ab6d5823",
   "metadata": {},
   "outputs": [],
   "source": [
    "df_2 = df_2.rename(columns={'Unnamed: 2':'expiration_date',\n",
    "                     'Unnamed: 1':'ap_name',\n",
    "                     '309':'realization',\n",
    "                     'Амброгексал р-р для приема внутрь и ингаляций 7,5мг/мл 50мл флакон №1':'drug_name'}\n",
    "                     )"
   ]
  },
  {
   "cell_type": "code",
   "execution_count": 61,
   "id": "b4318ea0",
   "metadata": {},
   "outputs": [],
   "source": [
    "df_2 = pd.read_csv('./MF.csv', sep = ';')"
   ]
  },
  {
   "cell_type": "code",
   "execution_count": 88,
   "id": "9f58b48b",
   "metadata": {},
   "outputs": [],
   "source": [
    "df_2.dropna(inplace=True)\n",
    "df_2.expiration_date = pd.to_datetime(df_2.expiration_date)\n",
    "df_2.realization = df_2.realization.astype('int')\n",
    "df_2['new_name'] = df_2.ap_name.str.split(' ').str[0]+ ' ' +df_2.ap_name.str.split(' ').str[1]"
   ]
  },
  {
   "cell_type": "code",
   "execution_count": 92,
   "id": "abf47c52",
   "metadata": {
    "scrolled": true
   },
   "outputs": [],
   "source": [
    "df_2.reset_index(drop=True, inplace=True)"
   ]
  },
  {
   "cell_type": "code",
   "execution_count": 93,
   "id": "915b48da",
   "metadata": {},
   "outputs": [
    {
     "data": {
      "text/html": [
       "<div>\n",
       "<style scoped>\n",
       "    .dataframe tbody tr th:only-of-type {\n",
       "        vertical-align: middle;\n",
       "    }\n",
       "\n",
       "    .dataframe tbody tr th {\n",
       "        vertical-align: top;\n",
       "    }\n",
       "\n",
       "    .dataframe thead th {\n",
       "        text-align: right;\n",
       "    }\n",
       "</style>\n",
       "<table border=\"1\" class=\"dataframe\">\n",
       "  <thead>\n",
       "    <tr style=\"text-align: right;\">\n",
       "      <th></th>\n",
       "      <th>drug_name</th>\n",
       "      <th>ap_name</th>\n",
       "      <th>expiration_date</th>\n",
       "      <th>realization</th>\n",
       "      <th>new_name</th>\n",
       "    </tr>\n",
       "  </thead>\n",
       "  <tbody>\n",
       "    <tr>\n",
       "      <th>0</th>\n",
       "      <td>Амброгексал р-р для приема внутрь и ингаляций ...</td>\n",
       "      <td>Аптека №321 от ЦРА №16 Борисовского района</td>\n",
       "      <td>2024-03-31</td>\n",
       "      <td>2</td>\n",
       "      <td>Аптека №321</td>\n",
       "    </tr>\n",
       "    <tr>\n",
       "      <th>1</th>\n",
       "      <td>Амброгексал р-р для приема внутрь и ингаляций ...</td>\n",
       "      <td>Аптека №137 от ЦРА №16 Борисовского района</td>\n",
       "      <td>2024-03-31</td>\n",
       "      <td>3</td>\n",
       "      <td>Аптека №137</td>\n",
       "    </tr>\n",
       "    <tr>\n",
       "      <th>2</th>\n",
       "      <td>Амброгексал р-р для приема внутрь и ингаляций ...</td>\n",
       "      <td>Аптека №167 от ЦРА №16 Борисовского района</td>\n",
       "      <td>2024-03-31</td>\n",
       "      <td>10</td>\n",
       "      <td>Аптека №167</td>\n",
       "    </tr>\n",
       "    <tr>\n",
       "      <th>3</th>\n",
       "      <td>Амброгексал р-р для приема внутрь и ингаляций ...</td>\n",
       "      <td>Аптека №260 от ЦРА №16 Борисовского района</td>\n",
       "      <td>2024-03-31</td>\n",
       "      <td>2</td>\n",
       "      <td>Аптека №260</td>\n",
       "    </tr>\n",
       "    <tr>\n",
       "      <th>4</th>\n",
       "      <td>Амброгексал р-р для приема внутрь и ингаляций ...</td>\n",
       "      <td>Аптека №257 от ЦРА №16 Борисовского района</td>\n",
       "      <td>2024-03-31</td>\n",
       "      <td>1</td>\n",
       "      <td>Аптека №257</td>\n",
       "    </tr>\n",
       "    <tr>\n",
       "      <th>...</th>\n",
       "      <td>...</td>\n",
       "      <td>...</td>\n",
       "      <td>...</td>\n",
       "      <td>...</td>\n",
       "      <td>...</td>\n",
       "    </tr>\n",
       "    <tr>\n",
       "      <th>5700</th>\n",
       "      <td>Юритмик таблетки п/о 5мг упаковка №30</td>\n",
       "      <td>ЦРА №208 Солигорского района</td>\n",
       "      <td>2023-09-30</td>\n",
       "      <td>5</td>\n",
       "      <td>ЦРА №208</td>\n",
       "    </tr>\n",
       "    <tr>\n",
       "      <th>5701</th>\n",
       "      <td>Юритмик таблетки п/о 5мг упаковка №30</td>\n",
       "      <td>Аптека №193 от ЦРА №208 Солигорского района</td>\n",
       "      <td>2023-09-30</td>\n",
       "      <td>5</td>\n",
       "      <td>Аптека №193</td>\n",
       "    </tr>\n",
       "    <tr>\n",
       "      <th>5702</th>\n",
       "      <td>Юритмик таблетки п/о 5мг упаковка №30</td>\n",
       "      <td>Аптека №183 от ЦРА №208 Солигорского района</td>\n",
       "      <td>2023-09-30</td>\n",
       "      <td>8</td>\n",
       "      <td>Аптека №183</td>\n",
       "    </tr>\n",
       "    <tr>\n",
       "      <th>5703</th>\n",
       "      <td>Юритмик таблетки п/о 5мг упаковка №30</td>\n",
       "      <td>Аптека №148 от ЦРА №208 Солигорского р-на</td>\n",
       "      <td>2023-09-30</td>\n",
       "      <td>5</td>\n",
       "      <td>Аптека №148</td>\n",
       "    </tr>\n",
       "    <tr>\n",
       "      <th>5704</th>\n",
       "      <td>Юритмик таблетки п/о 5мг упаковка №30</td>\n",
       "      <td>Аптека №186 от ЦРА №7 Столбцовского района</td>\n",
       "      <td>2023-09-30</td>\n",
       "      <td>2</td>\n",
       "      <td>Аптека №186</td>\n",
       "    </tr>\n",
       "  </tbody>\n",
       "</table>\n",
       "<p>5705 rows × 5 columns</p>\n",
       "</div>"
      ],
      "text/plain": [
       "                                              drug_name  \\\n",
       "0     Амброгексал р-р для приема внутрь и ингаляций ...   \n",
       "1     Амброгексал р-р для приема внутрь и ингаляций ...   \n",
       "2     Амброгексал р-р для приема внутрь и ингаляций ...   \n",
       "3     Амброгексал р-р для приема внутрь и ингаляций ...   \n",
       "4     Амброгексал р-р для приема внутрь и ингаляций ...   \n",
       "...                                                 ...   \n",
       "5700              Юритмик таблетки п/о 5мг упаковка №30   \n",
       "5701              Юритмик таблетки п/о 5мг упаковка №30   \n",
       "5702              Юритмик таблетки п/о 5мг упаковка №30   \n",
       "5703              Юритмик таблетки п/о 5мг упаковка №30   \n",
       "5704              Юритмик таблетки п/о 5мг упаковка №30   \n",
       "\n",
       "                                          ap_name expiration_date  \\\n",
       "0      Аптека №321 от ЦРА №16 Борисовского района      2024-03-31   \n",
       "1      Аптека №137 от ЦРА №16 Борисовского района      2024-03-31   \n",
       "2      Аптека №167 от ЦРА №16 Борисовского района      2024-03-31   \n",
       "3      Аптека №260 от ЦРА №16 Борисовского района      2024-03-31   \n",
       "4      Аптека №257 от ЦРА №16 Борисовского района      2024-03-31   \n",
       "...                                           ...             ...   \n",
       "5700                 ЦРА №208 Солигорского района      2023-09-30   \n",
       "5701  Аптека №193 от ЦРА №208 Солигорского района      2023-09-30   \n",
       "5702  Аптека №183 от ЦРА №208 Солигорского района      2023-09-30   \n",
       "5703    Аптека №148 от ЦРА №208 Солигорского р-на      2023-09-30   \n",
       "5704   Аптека №186 от ЦРА №7 Столбцовского района      2023-09-30   \n",
       "\n",
       "      realization     new_name  \n",
       "0               2  Аптека №321  \n",
       "1               3  Аптека №137  \n",
       "2              10  Аптека №167  \n",
       "3               2  Аптека №260  \n",
       "4               1  Аптека №257  \n",
       "...           ...          ...  \n",
       "5700            5     ЦРА №208  \n",
       "5701            5  Аптека №193  \n",
       "5702            8  Аптека №183  \n",
       "5703            5  Аптека №148  \n",
       "5704            2  Аптека №186  \n",
       "\n",
       "[5705 rows x 5 columns]"
      ]
     },
     "execution_count": 93,
     "metadata": {},
     "output_type": "execute_result"
    }
   ],
   "source": [
    "df_2"
   ]
  },
  {
   "cell_type": "code",
   "execution_count": 95,
   "id": "1ead884f",
   "metadata": {},
   "outputs": [],
   "source": [
    "df_2.new_name = df_2.new_name.str.replace('№', 'N')"
   ]
  },
  {
   "cell_type": "code",
   "execution_count": 704,
   "id": "7d989233",
   "metadata": {},
   "outputs": [],
   "source": [
    "# Используем готовую функцию из конспекта со средним\n",
    "def get_bootstrap(\n",
    "    data_column_1, # числовые значения первой выборки\n",
    "    data_column_2, # числовые значения второй выборки\n",
    "    boot_it = 1000, # количество бутстрэп-подвыборок\n",
    "    statistic = np.mean, # интересующая нас статистика\n",
    "    bootstrap_conf_level = 0.95 # уровень значимости\n",
    "):\n",
    "    boot_len = max([len(data_column_1), len(data_column_2)])\n",
    "    boot_data = []\n",
    "    for i in tqdm(range(boot_it)): # извлекаем подвыборки\n",
    "        samples_1 = data_column_1.sample(\n",
    "            boot_len, \n",
    "            replace = True # параметр возвращения\n",
    "        ).values\n",
    "        \n",
    "        samples_2 = data_column_2.sample(\n",
    "            boot_len, \n",
    "            replace = True\n",
    "        ).values\n",
    "        \n",
    "        boot_data.append(statistic(samples_1-samples_2)) # mean() - применяем статистику\n",
    "        \n",
    "    pd_boot_data = pd.DataFrame(boot_data)\n",
    "        \n",
    "    left_quant = (1 - bootstrap_conf_level)/2\n",
    "    right_quant = 1 - (1 - bootstrap_conf_level) / 2\n",
    "    ci = pd_boot_data.quantile([left_quant, right_quant])\n",
    "        \n",
    "    p_1 = norm.cdf(\n",
    "        x = 0, \n",
    "        loc = np.mean(boot_data), \n",
    "        scale = np.std(boot_data)\n",
    "    )\n",
    "    p_2 = norm.cdf(\n",
    "        x = 0, \n",
    "        loc = -np.mean(boot_data), \n",
    "        scale = np.std(boot_data)\n",
    "    )\n",
    "    p_value = min(p_1, p_2) * 2\n",
    "        \n",
    "    # Визуализация\n",
    "    plt.hist(pd_boot_data[0], bins = 50)\n",
    "    \n",
    "    plt.style.use('ggplot')\n",
    "    plt.vlines(ci,ymin=0,ymax=50,linestyle='--')\n",
    "    plt.xlabel('boot_data')\n",
    "    plt.ylabel('frequency')\n",
    "    plt.title(\"Histogram of boot_data\")\n",
    "    plt.show()\n",
    "       \n",
    "    return {\"boot_data\": boot_data, \n",
    "            \"ci\": ci, \n",
    "            \"p_value\": p_value}"
   ]
  }
 ],
 "metadata": {
  "kernelspec": {
   "display_name": "Python 3 (ipykernel)",
   "language": "python",
   "name": "python3"
  },
  "language_info": {
   "codemirror_mode": {
    "name": "ipython",
    "version": 3
   },
   "file_extension": ".py",
   "mimetype": "text/x-python",
   "name": "python",
   "nbconvert_exporter": "python",
   "pygments_lexer": "ipython3",
   "version": "3.10.9"
  }
 },
 "nbformat": 4,
 "nbformat_minor": 5
}
